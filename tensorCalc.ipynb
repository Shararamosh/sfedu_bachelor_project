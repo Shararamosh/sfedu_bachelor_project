{
 "cells": [
  {
   "cell_type": "code",
   "execution_count": 1,
   "metadata": {
    "tags": []
   },
   "outputs": [],
   "source": [
    "from IPython.display import display\n",
    "import sympy as sym\n",
    "from sympy.assumptions.assume import global_assumptions\n",
    "import time\n",
    "import pandas as pd\n",
    "import cpuinfo\n",
    "sym.init_printing(use_latex='mathjax')\n",
    "CARTESIAN = 0\n",
    "CYLINDRICAL = 1\n",
    "SPHERICAL = 2\n",
    "#Начальная система\n",
    "r = sym.Symbol('r', real=True, positive=True)\n",
    "phi = sym.Symbol('phi', real=True, nonnegative=True)\n",
    "theta = sym.Symbol('theta', real=True)\n",
    "x = sym.Symbol('x', real=True)\n",
    "y = sym.Symbol('y', real=True)\n",
    "z = sym.Symbol('z', real=True)\n",
    "global_assumptions.add(sym.Q.positive(sym.cos(theta)), sym.Q.positive(r))\n",
    "#Конечная система\n",
    "R = sym.Symbol('R', real=True, positive=True)\n",
    "Phi = sym.Symbol('Phi', real=True)\n",
    "Theta = sym.Symbol('Theta', real=True)\n",
    "X = sym.Symbol('X', real=True)\n",
    "Y = sym.Symbol('Y', real=True)\n",
    "Z = sym.Symbol('Z', real=True)\n",
    "global_assumptions.add(sym.Q.positive(sym.cos(Theta)), sym.Q.positive(R))\n",
    "I1 = sym.Symbol('I1', real=True)\n",
    "I2 = sym.Symbol('I2', real=True)\n",
    "I3 = sym.Symbol('I3', real=True)\n",
    "mu = sym.Symbol('mu', real=True, positive=True)\n",
    "global_assumptions.add(sym.Q.positive(mu))\n",
    "P = sym.Function('P', real=True, positive=True)(r)\n",
    "Psi = sym.Symbol('psi', real=True)\n",
    "k = sym.Symbol('k', real=True, positive=True)\n",
    "global_assumptions.add(sym.Q.positive(P), sym.Q.positive(sym.diff(P, r)), sym.Q.positive(k))"
   ]
  },
  {
   "cell_type": "code",
   "execution_count": 2,
   "metadata": {
    "tags": []
   },
   "outputs": [],
   "source": [
    "def BlatzAndKoSimple():\n",
    "    '''\n",
    "    Возвращает выражение энергии упрощённого варианта материала Блейтца и Ко.\n",
    "    '''\n",
    "    return sym.Rational(1, 2) * mu * (I2 / I3 + 2 * sym.sqrt(I3) - 5)"
   ]
  },
  {
   "cell_type": "code",
   "execution_count": 3,
   "metadata": {
    "tags": []
   },
   "outputs": [],
   "source": [
    "def BlatzAndKoHypothetical():\n",
    "    '''\n",
    "    Возвращает выражение энергии гипотетического варианта материала Блейтца и Ко.\n",
    "    '''\n",
    "    alpha = sym.Symbol('alpha', real=True)\n",
    "    return sym.Rational(1, 2) * mu * (I1 + 1 / alpha*(sym.Pow(I3, -alpha) - 1) - 3)"
   ]
  },
  {
   "cell_type": "code",
   "execution_count": 4,
   "metadata": {
    "tags": []
   },
   "outputs": [],
   "source": [
    "def BlatzAndKoFull():\n",
    "    '''\n",
    "    Возвращает выражение энергии полного варианта материала Блейтца и Ко.\n",
    "    '''\n",
    "    alpha = sym.Symbol('alpha', real=True)\n",
    "    beta = sym.Symbol('beta', real=True)\n",
    "    W = sym.Rational(1, 2) * mu * beta * (I1 + 1 / alpha*(sym.Pow(I3, -alpha) - 1) - 3)\n",
    "    W = W + sym.Rational(1, 2) * mu * (1 - beta) * (I2 * sym.Pow(I3, -1) + 1 / alpha * (sym.Pow(I3, alpha) - 1) - 3)\n",
    "    return W"
   ]
  },
  {
   "cell_type": "code",
   "execution_count": 5,
   "metadata": {
    "tags": []
   },
   "outputs": [],
   "source": [
    "def MurnaghanMaterial():\n",
    "    '''\n",
    "    Возвращает выражение энергии материала Мурнагана.\n",
    "    '''\n",
    "    lambdas = sym.Symbol('lambda', real=True)\n",
    "    m = sym.Symbol('m', real=True)\n",
    "    l = sym.Symbol('l', real=True)\n",
    "    n = sym.Symbol('n', real=True)\n",
    "    W = (-3 * lambdas - 2 * mu + sym.Rational(9, 2) * l + n / 2) * I1\n",
    "    W = W + sym.Rational(1, 2) * (lambdas + 2 * mu - 3 * l - 2 * m) * sym.Pow(I1, 2)\n",
    "    W = W + (-2 * mu + 3 * m - n / 2) * I2\n",
    "    W = W - m * I1 * I2\n",
    "    W = W + sym.Rational(1, 6) * (l + 2*m) * sym.Pow(I1, 3)\n",
    "    W = W + n / 2*(I3 - 1)\n",
    "    return sym.Rational(1, 4) * W"
   ]
  },
  {
   "cell_type": "code",
   "execution_count": 6,
   "metadata": {
    "tags": []
   },
   "outputs": [],
   "source": [
    "def SignoriniBody():\n",
    "    '''\n",
    "    Возвращает выражение энергии тела Синьорини.\n",
    "    '''\n",
    "    lambdas = sym.Symbol('lambda', real=True)\n",
    "    return (sym.Rational(4, 9) * mu * ((I2 / I3 + 3)*I2 / I3 - 18*sym.sqrt(1 / I3)) + (9 * lambdas + 5 * mu) * sym.Pow((sym.Rational(1, 3) * I2 / I3 - 1), 2)) / 8 * sym.sqrt(I3)"
   ]
  },
  {
   "cell_type": "code",
   "execution_count": 7,
   "metadata": {
    "tags": []
   },
   "outputs": [],
   "source": [
    "def GetI1(G):\n",
    "    '''\n",
    "    Возвращает выражение инварианта I_1 тензора второго ранга G.\n",
    "    '''\n",
    "    return sym.simplify(sym.Trace(G))"
   ]
  },
  {
   "cell_type": "code",
   "execution_count": 8,
   "metadata": {
    "tags": []
   },
   "outputs": [],
   "source": [
    "def GetI2(G):\n",
    "    '''\n",
    "    Возвращает выражение инварианта I_2 тензора второго ранга G.\n",
    "    '''\n",
    "    return sym.simplify(sym.Rational(1, 2) * (sym.Pow(sym.Trace(G), 2) - sym.Trace(G * G)))"
   ]
  },
  {
   "cell_type": "code",
   "execution_count": 9,
   "metadata": {
    "tags": []
   },
   "outputs": [],
   "source": [
    "def GetI3(G):\n",
    "    '''\n",
    "    Возвращает выражение инварианта I_3 тензора второго ранга G.\n",
    "    '''\n",
    "    return sym.simplify(sym.det(G))"
   ]
  },
  {
   "cell_type": "code",
   "execution_count": 10,
   "metadata": {
    "tags": []
   },
   "outputs": [],
   "source": [
    "def PiolaTensorSimple(G, C):\n",
    "    '''\n",
    "    Возвращает тензор Пиола, посчитанный по формуле для упрощённого варианта материала Блейтца и Ко.\n",
    "    '''\n",
    "    PT = mu / I3 * (sym.eye(3) * I1 - G + (sym.Pow(I3, 1.5) - I2) * G.inv()) * C\n",
    "    PT = MySimplifyMatrix(PT.subs([(I1, GetI1(G)), (I2, GetI2(G)), (I3, GetI3(G))]))\n",
    "    return PT"
   ]
  },
  {
   "cell_type": "code",
   "execution_count": 11,
   "metadata": {
    "tags": []
   },
   "outputs": [],
   "source": [
    "def MySimplifyMatrix(A):\n",
    "    '''\n",
    "    Упрощение элементов матрицы или вектора с использованием функции MySimplify.\n",
    "    '''\n",
    "    for i in range(A.shape[0]):\n",
    "        for j in range(A.shape[1]):\n",
    "            A[i, j] = MySimplify(A[i, j])\n",
    "    return A"
   ]
  },
  {
   "cell_type": "code",
   "execution_count": 12,
   "metadata": {
    "tags": []
   },
   "outputs": [],
   "source": [
    "def MySimplify(A):\n",
    "    '''\n",
    "    Упрощение символьных выражений с учётом глобальных условий и правила перемножения степеней.\n",
    "    '''\n",
    "    return sym.simplify(sym.refine(sym.powdenest(A, force=True)), rational=True)"
   ]
  },
  {
   "cell_type": "code",
   "execution_count": 13,
   "metadata": {
    "tags": []
   },
   "outputs": [],
   "source": [
    "def dW(W, G):\n",
    "    '''\n",
    "    Выражение производной выражения W по тензору второго ранга G.\n",
    "    '''\n",
    "    E = sym.eye(3)\n",
    "    I1G = E\n",
    "    I2G = I1 * E - G\n",
    "    I3G = I3 * G.inv()\n",
    "    dWdG = sym.diff(W, I1) * I1G + sym.diff(W, I2) * I2G + sym.diff(W, I3) * I3G\n",
    "    dWdG = MySimplifyMatrix(dWdG.subs([(I1, GetI1(G)), (I2, GetI2(G)), (I3, GetI3(G))]))\n",
    "    return dWdG"
   ]
  },
  {
   "cell_type": "code",
   "execution_count": 14,
   "metadata": {
    "tags": []
   },
   "outputs": [],
   "source": [
    "def VectorGradient(B, Q, Gamma, H):\n",
    "    '''\n",
    "    Выражение градиента вектора B, приведённое к ортонормированному базису.\n",
    "    Q - символы криволинейных координат.\n",
    "    Gamma - символы Кристоффеля второго рода.\n",
    "    H - коэффициенты Ламе.\n",
    "    '''\n",
    "    #Приведено к ортонормированному базису.\n",
    "    NablaA = sym.zeros(3, 3)\n",
    "    if len(B.shape) == 2:\n",
    "        A = B[0, :]\n",
    "    else:\n",
    "        A = B\n",
    "    for N in range(0, 3):\n",
    "        for K in range(0, 3):\n",
    "            NablaA[K, N] = sym.simplify((sym.diff(A[N], Q[K]) + sum(A[M] * Gamma[N, M, K] for M in range(3))) / H[K] * H[N])\n",
    "    return NablaA"
   ]
  },
  {
   "cell_type": "code",
   "execution_count": 15,
   "metadata": {
    "tags": []
   },
   "outputs": [],
   "source": [
    "def TensorSecondRankCov(P, Q, Gamma, M, N, S):\n",
    "    '''\n",
    "    Выражение ковариантной производной компоненты тензора второго ранга P.\n",
    "    Q - символы криволинейных координат.\n",
    "    Gamma - символы Кристоффеля второго рода.\n",
    "    M, N, S - индексы.\n",
    "    '''\n",
    "    #Формула 38.6.\n",
    "    sm = sym.diff(P[M, N], Q[S])\n",
    "    sm += sum(Gamma[M, T, S] * P[T, N] for T in range(3))\n",
    "    sm += sum(Gamma[N, T, S] * P[M, T] for T in range(3))\n",
    "    return MySimplify(sm)"
   ]
  },
  {
   "cell_type": "code",
   "execution_count": 16,
   "metadata": {
    "tags": []
   },
   "outputs": [],
   "source": [
    "def TensorSecondRankDiv(P, Q, Gamma, H):\n",
    "    '''\n",
    "    Выражение дивергенции тензора второго ранга P, приведённое к ортонормированному базису.\n",
    "    Q - символы криволинейных координат.\n",
    "    Gamma - символы Кристоффеля второго рода.\n",
    "    H - коэффициенты Ламе.\n",
    "    '''\n",
    "    #Приведено к ортонормированному базису.\n",
    "    DivP = sym.zeros(1, 3)\n",
    "    for N in range(3):\n",
    "        DivP[N] = MySimplify(sum(TensorSecondRankCov(P, Q, Gamma, M, N, M) for M in range(3)) * H[N])\n",
    "    return DivP"
   ]
  },
  {
   "cell_type": "code",
   "execution_count": 17,
   "metadata": {
    "tags": []
   },
   "outputs": [],
   "source": [
    "def dotprod(a, b):\n",
    "    '''\n",
    "    Скалярное произведение векторов a и b.\n",
    "    '''\n",
    "    return sym.simplify(sum(a[i] * b[i] for i in range(3)))"
   ]
  },
  {
   "cell_type": "code",
   "execution_count": 18,
   "metadata": {
    "tags": []
   },
   "outputs": [],
   "source": [
    "def Reference_configuration(coordType):\n",
    "    '''\n",
    "    Вычисление характеристик отсчётной конфигурации.\n",
    "    coordType - тип системы координат (0 - прямоугольная, 1 - цилиндрическая, 2 - сферическая).\n",
    "    '''\n",
    "    x_ = sym.zeros(1, 3) #Уравнения отсчётной конфигурации.\n",
    "    rt = sym.zeros(1, 3) #Радиус-вектор отсчётной конфигурации.\n",
    "    q = sym.zeros(1, 3)\n",
    "    if coordType == CARTESIAN:\n",
    "            q[0] = x\n",
    "            q[1] = y\n",
    "            q[2] = z\n",
    "            rt[0] = x\n",
    "            rt[1] = y\n",
    "            rt[2] = z\n",
    "            x_[0] = x\n",
    "            x_[1] = y\n",
    "            x_[2] = z\n",
    "            #print(\"Начальная система координат: прямоугольная.\")\n",
    "    elif coordType == CYLINDRICAL:\n",
    "            x_[0] = r * sym.cos(phi)\n",
    "            x_[1] = r * sym.sin(phi)\n",
    "            x_[2] = z\n",
    "            rt[0] = r\n",
    "            rt[1] = 0\n",
    "            rt[2] = z\n",
    "            q[0] = r\n",
    "            q[1] = phi\n",
    "            q[2] = z\n",
    "            #print(\"Начальная система координат: цилиндрическая.\")\n",
    "    else:\n",
    "            x_[0] = r * sym.cos(theta) * sym.cos(phi)\n",
    "            x_[1] = r * sym.cos(theta) * sym.sin(phi)\n",
    "            x_[2] = r * sym.sin(theta)\n",
    "            rt[0] = r\n",
    "            rt[1] = 0\n",
    "            rt[2] = 0\n",
    "            q[0] = r\n",
    "            q[1] = phi\n",
    "            q[2] = theta\n",
    "            #print(\"Начальная система координат: сферическая.\")\n",
    "    r_ = sym.zeros(3, 3)\n",
    "    for n in range(0, 3):\n",
    "        for s in range(0, 3):\n",
    "            r_[n, s] = sym.diff(x_[s], q[n])\n",
    "    #print(\"Основной базис:\")\n",
    "    #sym.pprint(r_)\n",
    "    g_ = sym.zeros(3, 3)\n",
    "    for m in range(0, 3):\n",
    "        for n in range(0, 3):\n",
    "            for i in range(0, 3):\n",
    "                g_[m, n] = sym.simplify(g_[m, n]+r_[m, i]*r_[n, i])\n",
    "    #print(\"Метрические коэффициенты:\")\n",
    "    #sym.pprint(g_)\n",
    "    g = sym.Inverse(g_)\n",
    "    #print(\"Обратная матрица метрических коэффициентов: \")\n",
    "    #sym.pprint(g)\n",
    "    h = sym.zeros(1, 3)\n",
    "    for m in range(0, 3):\n",
    "        #refine - упрощение выражений с использованием предположений. Предположения могут быть или в global_assumptions, или могут быть переданы напрямую при вызове функции.\n",
    "        #powdenest - упрощение выражения со степенями, используя правило перемножения степеней при возведении степени в степень.\n",
    "        h[m] = MySimplify(sym.sqrt(g_[m, m]))\n",
    "    #print(\"Коэффициенты Ламе:\")\n",
    "    #sym.pprint(h)\n",
    "    gamma = sym.MutableDenseNDimArray.zeros(3, 3, 3)\n",
    "    for n in range(0, 3):\n",
    "        for k in range(0, 3):\n",
    "            for m in range(0, 3):\n",
    "                gamma[m, n, k] = sym.simplify(1/2*sum(g[m, s]*(sym.diff(g_[n, s], q[k])+sym.diff(g_[k, s], q[n])-sym.diff(g_[n, k], q[s]))\n",
    "                for s in range(3)))\n",
    "    #print(\"Символы Кристоффеля второго рода:\")\n",
    "    #sym.pprint(gamma)\n",
    "    return q, rt, r_, h, gamma"
   ]
  },
  {
   "cell_type": "code",
   "execution_count": 19,
   "metadata": {
    "tags": []
   },
   "outputs": [],
   "source": [
    "def Actual_configuration(coordType):\n",
    "    '''\n",
    "    Вычисление характеристик текущей конфигурации.\n",
    "    coordType - тип системы координат (0 - прямоугольная, 1 - цилиндрическая, 2 - сферическая).\n",
    "    '''\n",
    "    X_ = sym.zeros(1, 3) #Уравнения конечной системы.\n",
    "    Rt = sym.zeros(1, 3) #Радиус-вектор конечной системы.\n",
    "    Q = sym.zeros(1, 3)\n",
    "    if coordType == CARTESIAN:\n",
    "            Q[0] = X\n",
    "            Q[1] = Y\n",
    "            Q[2] = Z\n",
    "            Rt[0] = X\n",
    "            Rt[1] = Y\n",
    "            Rt[2] = Z\n",
    "            X_[0] = X\n",
    "            X_[1] = Y\n",
    "            X_[2] = Z\n",
    "            #print(\"Конечная система координат: прямоугольная.\")\n",
    "    elif coordType == CYLINDRICAL:\n",
    "            X_[0] = R * sym.cos(Phi)\n",
    "            X_[1] = R * sym.sin(Phi)\n",
    "            X_[2] = Z\n",
    "            Rt[0] = R\n",
    "            Rt[1] = 0\n",
    "            Rt[2] = Z\n",
    "            Q[0] = R\n",
    "            Q[1] = Phi\n",
    "            Q[2] = Z\n",
    "            #print(\"Конечная система координат: цилиндрическая.\")\n",
    "    else:\n",
    "            X_[0] = R * sym.cos(Theta) * sym.cos(Phi)\n",
    "            X_[1] = R * sym.cos(Theta) * sym.sin(Phi)\n",
    "            X_[2] = R * sym.sin(Theta)\n",
    "            Rt[0] = R\n",
    "            Rt[1] = 0\n",
    "            Rt[2] = 0\n",
    "            Q[0] = R\n",
    "            Q[1] = Phi\n",
    "            Q[2] = Theta\n",
    "            #print(\"Конечная система координат: сферическая.\")\n",
    "    R_ = sym.zeros(3, 3)\n",
    "    for n in range(0, 3):\n",
    "        for s in range(0, 3):\n",
    "            R_[n, s] = sym.diff(X_[s], Q[n])\n",
    "    #print(\"Основной базис:\")\n",
    "    #sym.pprint(R_)\n",
    "    G_ = sym.zeros(3, 3)\n",
    "    for M in range(0, 3):\n",
    "        for N in range(0, 3):\n",
    "            for I in range(0, 3):\n",
    "                G_[M, N] = sym.simplify(G_[M, N] + R_[M, I] * R_[N, I])\n",
    "    #print(\"Метрические коэффициенты:\")\n",
    "    #sym.pprint(G_)\n",
    "    G = sym.Inverse(G_)\n",
    "    #print(\"Обратная матрица метрических коэффициентов: \")\n",
    "    #sym.pprint(G)\n",
    "    H = sym.zeros(1, 3)\n",
    "    for M in range(0, 3):\n",
    "        #refine - упрощение выражений с использованием предположений. Предположения могут быть или в global_assumptions, или могут быть переданы напрямую при вызове функции.\n",
    "        #powdenest - упрощение выражения со степенями, используя правило перемножения степеней при возведении степени в степень.\n",
    "        H[M] = MySimplify(sym.sqrt(G_[M, M]))\n",
    "    #print(\"Коэффициенты Ламе: \")\n",
    "    #sym.pprint(H)\n",
    "    Gamma = sym.MutableDenseNDimArray.zeros(3, 3, 3)\n",
    "    for N in range(0, 3):\n",
    "        for K in range(0, 3):\n",
    "            for M in range(0, 3):\n",
    "                Gamma[M, N, K] = sym.simplify(1/2*sum(G[M, S]*(sym.diff(G_[N, S], Q[K])+sym.diff(G_[K, S], Q[N])-sym.diff(G_[N, K], Q[S]))\n",
    "                for S in range(3)))\n",
    "    #print(\"Символы Кристоффеля второго рода:\")\n",
    "    #sym.pprint(Gamma)\n",
    "    return Q, Rt, R_, H, Gamma"
   ]
  },
  {
   "cell_type": "code",
   "execution_count": 20,
   "metadata": {
    "tags": []
   },
   "outputs": [
    {
     "name": "stdout",
     "output_type": "stream",
     "text": [
      "Градиент деформации:\n"
     ]
    },
    {
     "data": {
      "text/latex": [
       "$\\displaystyle \\left[\\begin{matrix}\\frac{d}{d r} P{\\left(r \\right)} & 0 & 0\\\\0 & \\frac{P{\\left(r \\right)}}{r} & 0\\\\0 & \\psi P{\\left(r \\right)} & k\\end{matrix}\\right]$"
      ],
      "text/plain": [
       "⎡d                  ⎤\n",
       "⎢──(P(r))    0     0⎥\n",
       "⎢dr                 ⎥\n",
       "⎢                   ⎥\n",
       "⎢           P(r)    ⎥\n",
       "⎢   0       ────   0⎥\n",
       "⎢            r      ⎥\n",
       "⎢                   ⎥\n",
       "⎣   0      ψ⋅P(r)  k⎦"
      ]
     },
     "metadata": {},
     "output_type": "display_data"
    }
   ],
   "source": [
    "q, rt, r_, h, gamma = Reference_configuration(CYLINDRICAL)\n",
    "e = sym.zeros(3, 3)\n",
    "for m in range(3):\n",
    "    for i in range(3):\n",
    "        e[m, i] = 1/h[m]*r_[m, i]\n",
    "Q, Rt, R_, H, Gamma = Actual_configuration(CYLINDRICAL)\n",
    "E = sym.zeros(3, 3)\n",
    "for M in range(3):\n",
    "    for I in range(3):\n",
    "        E[M, I] = 1/H[M]*R_[M, I]\n",
    "A = sym.zeros(3, 3)\n",
    "for M in range(3):\n",
    "    for K in range(3):\n",
    "        A[M, K] = dotprod(E[M, :], e[K, :])\n",
    "A = A.subs([(R, P), (Phi, phi+Psi*z), (Z, k*z)])\n",
    "Rt = Rt.subs([(R, P), (Phi, phi+Psi*z), (Z, k*z)])\n",
    "C = Rt*A\n",
    "for i in range(3):\n",
    "    C[i] = C[i]/h[i]\n",
    "C = MySimplifyMatrix(VectorGradient(C, q, gamma, h)*A.T)\n",
    "print(\"Градиент деформации:\")\n",
    "display(C)"
   ]
  },
  {
   "cell_type": "code",
   "execution_count": 21,
   "metadata": {
    "tags": []
   },
   "outputs": [
    {
     "name": "stdout",
     "output_type": "stream",
     "text": [
      "Мера деформации Коши:\n"
     ]
    },
    {
     "data": {
      "text/latex": [
       "$\\displaystyle \\left[\\begin{matrix}\\left(\\frac{d}{d r} P{\\left(r \\right)}\\right)^{2} & 0 & 0\\\\0 & \\frac{P^{2}{\\left(r \\right)}}{r^{2}} & \\frac{\\psi P^{2}{\\left(r \\right)}}{r}\\\\0 & \\frac{\\psi P^{2}{\\left(r \\right)}}{r} & k^{2} + \\psi^{2} P^{2}{\\left(r \\right)}\\end{matrix}\\right]$"
      ],
      "text/plain": [
       "⎡          2                        ⎤\n",
       "⎢⎛d       ⎞                         ⎥\n",
       "⎢⎜──(P(r))⎟      0           0      ⎥\n",
       "⎢⎝dr      ⎠                         ⎥\n",
       "⎢                                   ⎥\n",
       "⎢               2            2      ⎥\n",
       "⎢              P (r)      ψ⋅P (r)   ⎥\n",
       "⎢     0        ─────      ───────   ⎥\n",
       "⎢                 2          r      ⎥\n",
       "⎢                r                  ⎥\n",
       "⎢                                   ⎥\n",
       "⎢                2                  ⎥\n",
       "⎢             ψ⋅P (r)   2    2  2   ⎥\n",
       "⎢     0       ───────  k  + ψ ⋅P (r)⎥\n",
       "⎣                r                  ⎦"
      ]
     },
     "metadata": {},
     "output_type": "display_data"
    }
   ],
   "source": [
    "G = MySimplifyMatrix(C*C.T)\n",
    "print(\"Мера деформации Коши:\")\n",
    "display(G)"
   ]
  },
  {
   "cell_type": "code",
   "execution_count": 22,
   "metadata": {
    "tags": []
   },
   "outputs": [
    {
     "name": "stdout",
     "output_type": "stream",
     "text": [
      "Рассматриваем упрощённый вариант материала Блейтца и Ко.\n"
     ]
    },
    {
     "data": {
      "text/latex": [
       "$\\displaystyle W = \\frac{\\mu \\left(\\frac{I_{2}}{I_{3}} + 2 \\sqrt{I_{3}} - 5\\right)}{2}$"
      ],
      "text/plain": [
       "      ⎛I₂       ____    ⎞\n",
       "    μ⋅⎜── + 2⋅╲╱ I₃  - 5⎟\n",
       "      ⎝I₃               ⎠\n",
       "W = ─────────────────────\n",
       "              2          "
      ]
     },
     "metadata": {},
     "output_type": "display_data"
    }
   ],
   "source": [
    "print(\"Рассматриваем упрощённый вариант материала Блейтца и Ко.\")\n",
    "W1 = BlatzAndKoSimple()\n",
    "display(sym.Eq(sym.Symbol('W'), W1))"
   ]
  },
  {
   "cell_type": "code",
   "execution_count": 23,
   "metadata": {
    "tags": []
   },
   "outputs": [],
   "source": [
    "t = time.time()\n",
    "PT = PiolaTensorSimple(G, C)\n",
    "D = MySimplifyMatrix(2*dW(W1, G)*C)\n",
    "DA = D*A\n",
    "for m in range(3):\n",
    "    for n in range(3):\n",
    "        DA[m, n] = DA[m, n]/h[m]/h[n]\n",
    "divD = TensorSecondRankDiv(DA, q, gamma, h)\n",
    "divD = MySimplifyMatrix(divD*(A.T))\n",
    "simpleTime = round(time.time()-t, 3) #Округление до миллисекунд."
   ]
  },
  {
   "cell_type": "code",
   "execution_count": 24,
   "metadata": {
    "tags": []
   },
   "outputs": [
    {
     "name": "stdout",
     "output_type": "stream",
     "text": [
      "Тензор Пиола (по выражению для упрощённого варианта материала Блейтца и Ко):\n"
     ]
    },
    {
     "data": {
      "text/latex": [
       "$\\displaystyle \\left[\\begin{matrix}\\frac{k \\mu P{\\left(r \\right)}}{r} - \\frac{\\mu}{\\left(\\frac{d}{d r} P{\\left(r \\right)}\\right)^{3}} & 0 & 0\\\\0 & k \\mu \\frac{d}{d r} P{\\left(r \\right)} - \\frac{\\mu r^{3}}{P^{3}{\\left(r \\right)}} - \\frac{\\mu \\psi^{2} r^{3}}{k^{2} P{\\left(r \\right)}} & - \\mu \\psi P{\\left(r \\right)} \\frac{d}{d r} P{\\left(r \\right)} + \\frac{\\mu \\psi r^{3}}{k P^{2}{\\left(r \\right)}} + \\frac{\\mu \\psi^{3} r^{3}}{k^{3}} + \\frac{\\mu \\psi r}{k^{3}}\\\\0 & \\frac{\\mu \\psi r^{2}}{k^{2} P{\\left(r \\right)}} & \\frac{\\mu \\left(k^{3} P{\\left(r \\right)} \\frac{d}{d r} P{\\left(r \\right)} - \\psi^{2} r^{3} - r\\right)}{k^{3} r}\\end{matrix}\\right]$"
      ],
      "text/plain": [
       "⎡k⋅μ⋅P(r)        μ                                                            \n",
       "⎢──────── - ───────────                0                                      \n",
       "⎢   r                 3                                                       \n",
       "⎢           ⎛d       ⎞                                                        \n",
       "⎢           ⎜──(P(r))⎟                                                        \n",
       "⎢           ⎝dr      ⎠                                                        \n",
       "⎢                                                                             \n",
       "⎢                                           3      2  3                       \n",
       "⎢                            d           μ⋅r    μ⋅ψ ⋅r              d         \n",
       "⎢          0             k⋅μ⋅──(P(r)) - ───── - ───────  - μ⋅ψ⋅P(r)⋅──(P(r)) +\n",
       "⎢                            dr          3       2                  dr        \n",
       "⎢                                       P (r)   k ⋅P(r)                       \n",
       "⎢                                                                             \n",
       "⎢                                                                 ⎛ 3      d  \n",
       "⎢                                         2                     μ⋅⎜k ⋅P(r)⋅──(\n",
       "⎢                                    μ⋅ψ⋅r                        ⎝        dr \n",
       "⎢          0                        ───────                     ──────────────\n",
       "⎢                                    2                                        \n",
       "⎣                                   k ⋅P(r)                                   \n",
       "\n",
       "                          ⎤\n",
       "  0                       ⎥\n",
       "                          ⎥\n",
       "                          ⎥\n",
       "                          ⎥\n",
       "                          ⎥\n",
       "                          ⎥\n",
       "       3      3  3        ⎥\n",
       "  μ⋅ψ⋅r    μ⋅ψ ⋅r    μ⋅ψ⋅r⎥\n",
       " ─────── + ─────── + ─────⎥\n",
       "    2          3        3 ⎥\n",
       " k⋅P (r)      k        k  ⎥\n",
       "                          ⎥\n",
       "         2  3    ⎞        ⎥\n",
       "P(r)) - ψ ⋅r  - r⎟        ⎥\n",
       "                 ⎠        ⎥\n",
       "──────────────────        ⎥\n",
       " 3                        ⎥\n",
       "k ⋅r                      ⎦"
      ]
     },
     "metadata": {},
     "output_type": "display_data"
    },
    {
     "name": "stdout",
     "output_type": "stream",
     "text": [
      "Тензор Пиола (по основному выражению):\n"
     ]
    },
    {
     "data": {
      "text/latex": [
       "$\\displaystyle \\left[\\begin{matrix}\\frac{k \\mu P{\\left(r \\right)}}{r} - \\frac{\\mu}{\\left(\\frac{d}{d r} P{\\left(r \\right)}\\right)^{3}} & 0 & 0\\\\0 & k \\mu \\frac{d}{d r} P{\\left(r \\right)} - \\frac{\\mu r^{3}}{P^{3}{\\left(r \\right)}} - \\frac{\\mu \\psi^{2} r^{3}}{k^{2} P{\\left(r \\right)}} & - \\mu \\psi P{\\left(r \\right)} \\frac{d}{d r} P{\\left(r \\right)} + \\frac{\\mu \\psi r^{3}}{k P^{2}{\\left(r \\right)}} + \\frac{\\mu \\psi^{3} r^{3}}{k^{3}} + \\frac{\\mu \\psi r}{k^{3}}\\\\0 & \\frac{\\mu \\psi r^{2}}{k^{2} P{\\left(r \\right)}} & \\frac{\\mu \\left(k^{3} P{\\left(r \\right)} \\frac{d}{d r} P{\\left(r \\right)} - \\psi^{2} r^{3} - r\\right)}{k^{3} r}\\end{matrix}\\right]$"
      ],
      "text/plain": [
       "⎡k⋅μ⋅P(r)        μ                                                            \n",
       "⎢──────── - ───────────                0                                      \n",
       "⎢   r                 3                                                       \n",
       "⎢           ⎛d       ⎞                                                        \n",
       "⎢           ⎜──(P(r))⎟                                                        \n",
       "⎢           ⎝dr      ⎠                                                        \n",
       "⎢                                                                             \n",
       "⎢                                           3      2  3                       \n",
       "⎢                            d           μ⋅r    μ⋅ψ ⋅r              d         \n",
       "⎢          0             k⋅μ⋅──(P(r)) - ───── - ───────  - μ⋅ψ⋅P(r)⋅──(P(r)) +\n",
       "⎢                            dr          3       2                  dr        \n",
       "⎢                                       P (r)   k ⋅P(r)                       \n",
       "⎢                                                                             \n",
       "⎢                                                                 ⎛ 3      d  \n",
       "⎢                                         2                     μ⋅⎜k ⋅P(r)⋅──(\n",
       "⎢                                    μ⋅ψ⋅r                        ⎝        dr \n",
       "⎢          0                        ───────                     ──────────────\n",
       "⎢                                    2                                        \n",
       "⎣                                   k ⋅P(r)                                   \n",
       "\n",
       "                          ⎤\n",
       "  0                       ⎥\n",
       "                          ⎥\n",
       "                          ⎥\n",
       "                          ⎥\n",
       "                          ⎥\n",
       "                          ⎥\n",
       "       3      3  3        ⎥\n",
       "  μ⋅ψ⋅r    μ⋅ψ ⋅r    μ⋅ψ⋅r⎥\n",
       " ─────── + ─────── + ─────⎥\n",
       "    2          3        3 ⎥\n",
       " k⋅P (r)      k        k  ⎥\n",
       "                          ⎥\n",
       "         2  3    ⎞        ⎥\n",
       "P(r)) - ψ ⋅r  - r⎟        ⎥\n",
       "                 ⎠        ⎥\n",
       "──────────────────        ⎥\n",
       " 3                        ⎥\n",
       "k ⋅r                      ⎦"
      ]
     },
     "metadata": {},
     "output_type": "display_data"
    },
    {
     "name": "stdout",
     "output_type": "stream",
     "text": [
      "Оба тензора Пиола равны.\n"
     ]
    }
   ],
   "source": [
    "print(\"Тензор Пиола (по выражению для упрощённого варианта материала Блейтца и Ко):\")\n",
    "display(PT)\n",
    "print(\"Тензор Пиола (по основному выражению):\")\n",
    "display(D)\n",
    "if PT == D:\n",
    "    print(\"Оба тензора Пиола равны.\")"
   ]
  },
  {
   "cell_type": "code",
   "execution_count": 25,
   "metadata": {},
   "outputs": [
    {
     "name": "stdout",
     "output_type": "stream",
     "text": [
      "Элемент [0, 0] тензора Пиола:\n"
     ]
    },
    {
     "data": {
      "text/latex": [
       "$\\displaystyle \\frac{k \\mu P{\\left(r \\right)}}{r} - \\frac{\\mu}{\\left(\\frac{d}{d r} P{\\left(r \\right)}\\right)^{3}}$"
      ],
      "text/plain": [
       "k⋅μ⋅P(r)        μ     \n",
       "──────── - ───────────\n",
       "   r                 3\n",
       "           ⎛d       ⎞ \n",
       "           ⎜──(P(r))⎟ \n",
       "           ⎝dr      ⎠ "
      ]
     },
     "metadata": {},
     "output_type": "display_data"
    },
    {
     "name": "stdout",
     "output_type": "stream",
     "text": [
      "Элемент [1, 1] тензора Пиола:\n"
     ]
    },
    {
     "data": {
      "text/latex": [
       "$\\displaystyle k \\mu \\frac{d}{d r} P{\\left(r \\right)} - \\frac{\\mu r^{3}}{P^{3}{\\left(r \\right)}} - \\frac{\\mu \\psi^{2} r^{3}}{k^{2} P{\\left(r \\right)}}$"
      ],
      "text/plain": [
       "                   3      2  3\n",
       "    d           μ⋅r    μ⋅ψ ⋅r \n",
       "k⋅μ⋅──(P(r)) - ───── - ───────\n",
       "    dr          3       2     \n",
       "               P (r)   k ⋅P(r)"
      ]
     },
     "metadata": {},
     "output_type": "display_data"
    }
   ],
   "source": [
    "print(\"Элемент [0, 0] тензора Пиола:\")\n",
    "display(D[0, 0])\n",
    "print(\"Элемент [1, 1] тензора Пиола:\")\n",
    "display(D[1, 1])"
   ]
  },
  {
   "cell_type": "code",
   "execution_count": 26,
   "metadata": {
    "tags": []
   },
   "outputs": [
    {
     "name": "stdout",
     "output_type": "stream",
     "text": [
      "Уравнение равновесия и граничное условие:\n"
     ]
    },
    {
     "data": {
      "text/latex": [
       "$\\displaystyle \\frac{d^{2}}{d r^{2}} P{\\left(r \\right)} = - \\frac{r^{2} \\left(\\frac{d}{d r} P{\\left(r \\right)}\\right)^{4}}{3 P^{3}{\\left(r \\right)}} + \\frac{\\frac{d}{d r} P{\\left(r \\right)}}{3 r}$"
      ],
      "text/plain": [
       "                           4           \n",
       "               2 ⎛d       ⎞    d       \n",
       "  2           r ⋅⎜──(P(r))⎟    ──(P(r))\n",
       " d               ⎝dr      ⎠    dr      \n",
       "───(P(r)) = - ────────────── + ────────\n",
       "  2                 3            3⋅r   \n",
       "dr               3⋅P (r)               "
      ]
     },
     "metadata": {},
     "output_type": "display_data"
    },
    {
     "data": {
      "text/latex": [
       "$\\displaystyle \\frac{k \\mu P{\\left(r \\right)}}{r} - \\frac{\\mu}{\\left(\\frac{d}{d r} P{\\left(r \\right)}\\right)^{3}} = 0$"
      ],
      "text/plain": [
       "k⋅μ⋅P(r)        μ         \n",
       "──────── - ─────────── = 0\n",
       "   r                 3    \n",
       "           ⎛d       ⎞     \n",
       "           ⎜──(P(r))⎟     \n",
       "           ⎝dr      ⎠     "
      ]
     },
     "metadata": {},
     "output_type": "display_data"
    },
    {
     "name": "stdout",
     "output_type": "stream",
     "text": [
      "Время выполнения вычислений: 5.62 секунд.\n"
     ]
    }
   ],
   "source": [
    "print(\"Уравнение равновесия и граничное условие:\")\n",
    "display(sym.Eq(sym.diff(P, r, 2),\n",
    "               sym.solve(divD[0], sym.diff(P, r, 2))[0]))\n",
    "display(sym.Eq(D[0, 0], 0))\n",
    "print(\"Время выполнения вычислений: \"+str(simpleTime)+\" секунд.\")"
   ]
  },
  {
   "cell_type": "code",
   "execution_count": 27,
   "metadata": {
    "tags": []
   },
   "outputs": [
    {
     "name": "stdout",
     "output_type": "stream",
     "text": [
      "Рассматриваем гипотетический вариант материала Блейтца и Ко.\n"
     ]
    },
    {
     "data": {
      "text/latex": [
       "$\\displaystyle W = \\frac{\\mu \\left(I_{1} - 3 + \\frac{-1 + I_{3}^{- \\alpha}}{\\alpha}\\right)}{2}$"
      ],
      "text/plain": [
       "      ⎛                -α⎞\n",
       "      ⎜         -1 + I₃  ⎟\n",
       "    μ⋅⎜I₁ - 3 + ─────────⎟\n",
       "      ⎝             α    ⎠\n",
       "W = ──────────────────────\n",
       "              2           "
      ]
     },
     "metadata": {},
     "output_type": "display_data"
    }
   ],
   "source": [
    "print(\"Рассматриваем гипотетический вариант материала Блейтца и Ко.\")\n",
    "W2 = BlatzAndKoHypothetical()\n",
    "display(sym.Eq(sym.Symbol('W'), W2))"
   ]
  },
  {
   "cell_type": "code",
   "execution_count": 28,
   "metadata": {
    "tags": []
   },
   "outputs": [],
   "source": [
    "t = time.time()\n",
    "D = MySimplifyMatrix(2*dW(W2, G)*C)\n",
    "DA = D*A\n",
    "for m in range(3):\n",
    "    for n in range(3):\n",
    "        DA[m, n] = DA[m, n]/h[m]/h[n]\n",
    "divD = TensorSecondRankDiv(DA, q, gamma, h)\n",
    "divD = MySimplifyMatrix(divD*(A.T))\n",
    "hypotheticalTime = round(time.time()-t, 3) #Округление до миллисекунд."
   ]
  },
  {
   "cell_type": "code",
   "execution_count": 29,
   "metadata": {
    "tags": []
   },
   "outputs": [
    {
     "name": "stdout",
     "output_type": "stream",
     "text": [
      "Уравнение равновесия и граничное условие:\n"
     ]
    },
    {
     "data": {
      "text/latex": [
       "$\\displaystyle \\frac{d^{2}}{d r^{2}} P{\\left(r \\right)} = \\frac{2 \\alpha r^{2 \\alpha + 1} P{\\left(r \\right)} \\frac{d}{d r} P{\\left(r \\right)} - 2 \\alpha r^{2 \\alpha + 2} \\left(\\frac{d}{d r} P{\\left(r \\right)}\\right)^{2} + k^{2 \\alpha} P^{2 \\alpha + 2}{\\left(r \\right)} \\left(\\frac{d}{d r} P{\\left(r \\right)}\\right)^{2 \\alpha + 2} + \\psi^{2} r^{2} \\left(k^{2} \\left(\\frac{d}{d r} P{\\left(r \\right)}\\right)^{2}\\right)^{\\alpha} P^{2 \\alpha + 2}{\\left(r \\right)} \\left(\\frac{d}{d r} P{\\left(r \\right)}\\right)^{2} - r \\left(k^{2} \\left(\\frac{d}{d r} P{\\left(r \\right)}\\right)^{2}\\right)^{\\alpha} P^{2 \\alpha + 1}{\\left(r \\right)} \\left(\\frac{d}{d r} P{\\left(r \\right)}\\right)^{3} + r^{2 \\alpha + 1} P{\\left(r \\right)} \\frac{d}{d r} P{\\left(r \\right)} - r^{2 \\alpha + 2} \\left(\\frac{d}{d r} P{\\left(r \\right)}\\right)^{2}}{2 \\alpha r^{2 \\alpha + 2} P{\\left(r \\right)} + r^{2} \\left(k^{2} \\left(\\frac{d}{d r} P{\\left(r \\right)}\\right)^{2}\\right)^{\\alpha} P^{2 \\alpha + 1}{\\left(r \\right)} \\left(\\frac{d}{d r} P{\\left(r \\right)}\\right)^{2} + r^{2 \\alpha + 2} P{\\left(r \\right)}}$"
      ],
      "text/plain": [
       "                                                                              \n",
       "                                                                2             \n",
       "                 2⋅α + 1      d               2⋅α + 2 ⎛d       ⎞     2⋅α  2⋅α \n",
       "  2         2⋅α⋅r       ⋅P(r)⋅──(P(r)) - 2⋅α⋅r       ⋅⎜──(P(r))⎟  + k   ⋅P    \n",
       " d                            dr                      ⎝dr      ⎠              \n",
       "───(P(r)) = ──────────────────────────────────────────────────────────────────\n",
       "  2                                                                           \n",
       "dr                                                                            \n",
       "                                                                              \n",
       "                                                                              \n",
       "                                                                              \n",
       "\n",
       "                                                 α                            \n",
       "                 2⋅α + 2         ⎛             2⎞                        2    \n",
       "+ 2    ⎛d       ⎞           2  2 ⎜ 2 ⎛d       ⎞ ⎟   2⋅α + 2    ⎛d       ⎞     \n",
       "   (r)⋅⎜──(P(r))⎟        + ψ ⋅r ⋅⎜k ⋅⎜──(P(r))⎟ ⎟ ⋅P       (r)⋅⎜──(P(r))⎟  - r\n",
       "       ⎝dr      ⎠                ⎝   ⎝dr      ⎠ ⎠              ⎝dr      ⎠     \n",
       "──────────────────────────────────────────────────────────────────────────────\n",
       "                                                  α                           \n",
       "                                  ⎛             2⎞                        2   \n",
       "                2⋅α + 2         2 ⎜ 2 ⎛d       ⎞ ⎟   2⋅α + 1    ⎛d       ⎞    \n",
       "           2⋅α⋅r       ⋅P(r) + r ⋅⎜k ⋅⎜──(P(r))⎟ ⎟ ⋅P       (r)⋅⎜──(P(r))⎟  + \n",
       "                                  ⎝   ⎝dr      ⎠ ⎠              ⎝dr      ⎠    \n",
       "\n",
       "                 α                                                            \n",
       " ⎛             2⎞                        3                                    \n",
       " ⎜ 2 ⎛d       ⎞ ⎟   2⋅α + 1    ⎛d       ⎞     2⋅α + 1      d           2⋅α + 2\n",
       "⋅⎜k ⋅⎜──(P(r))⎟ ⎟ ⋅P       (r)⋅⎜──(P(r))⎟  + r       ⋅P(r)⋅──(P(r)) - r       \n",
       " ⎝   ⎝dr      ⎠ ⎠              ⎝dr      ⎠                  dr                 \n",
       "──────────────────────────────────────────────────────────────────────────────\n",
       "                                                                              \n",
       "                                                                              \n",
       " 2⋅α + 2                                                                      \n",
       "r       ⋅P(r)                                                                 \n",
       "                                                                              \n",
       "\n",
       "            \n",
       "           2\n",
       " ⎛d       ⎞ \n",
       "⋅⎜──(P(r))⎟ \n",
       " ⎝dr      ⎠ \n",
       "────────────\n",
       "            \n",
       "            \n",
       "            \n",
       "            \n",
       "            "
      ]
     },
     "metadata": {},
     "output_type": "display_data"
    },
    {
     "data": {
      "text/latex": [
       "$\\displaystyle - \\frac{\\mu r^{2 \\alpha} \\left(k^{2} P^{2}{\\left(r \\right)} \\left(\\frac{d}{d r} P{\\left(r \\right)}\\right)^{2}\\right)^{- \\alpha}}{\\frac{d}{d r} P{\\left(r \\right)}} + \\mu \\frac{d}{d r} P{\\left(r \\right)} = 0$"
      ],
      "text/plain": [
       "                               -α                 \n",
       "         ⎛                   2⎞                   \n",
       "     2⋅α ⎜ 2  2    ⎛d       ⎞ ⎟                   \n",
       "  μ⋅r   ⋅⎜k ⋅P (r)⋅⎜──(P(r))⎟ ⎟                   \n",
       "         ⎝         ⎝dr      ⎠ ⎠       d           \n",
       "- ─────────────────────────────── + μ⋅──(P(r)) = 0\n",
       "              d                       dr          \n",
       "              ──(P(r))                            \n",
       "              dr                                  "
      ]
     },
     "metadata": {},
     "output_type": "display_data"
    },
    {
     "name": "stdout",
     "output_type": "stream",
     "text": [
      "Время выполнения вычислений: 8.881 секунд.\n"
     ]
    }
   ],
   "source": [
    "print(\"Уравнение равновесия и граничное условие:\")\n",
    "display(sym.Eq(sym.diff(P, r, 2), sym.solve(divD[0], sym.diff(P, r, 2))[0]))\n",
    "display(sym.Eq(D[0, 0], 0))\n",
    "print(\"Время выполнения вычислений: \"+str(hypotheticalTime)+\" секунд.\")"
   ]
  },
  {
   "cell_type": "code",
   "execution_count": 30,
   "metadata": {
    "tags": []
   },
   "outputs": [
    {
     "name": "stdout",
     "output_type": "stream",
     "text": [
      "Рассматриваем полное представление материала Блейтца и Ко.\n"
     ]
    },
    {
     "data": {
      "text/latex": [
       "$\\displaystyle W = \\frac{\\beta \\mu \\left(I_{1} - 3 + \\frac{-1 + I_{3}^{- \\alpha}}{\\alpha}\\right)}{2} + \\frac{\\mu \\left(1 - \\beta\\right) \\left(\\frac{I_{2}}{I_{3}} - 3 + \\frac{I_{3}^{\\alpha} - 1}{\\alpha}\\right)}{2}$"
      ],
      "text/plain": [
       "        ⎛                -α⎞             ⎛           α    ⎞\n",
       "        ⎜         -1 + I₃  ⎟             ⎜I₂       I₃  - 1⎟\n",
       "    β⋅μ⋅⎜I₁ - 3 + ─────────⎟   μ⋅(1 - β)⋅⎜── - 3 + ───────⎟\n",
       "        ⎝             α    ⎠             ⎝I₃          α   ⎠\n",
       "W = ──────────────────────── + ────────────────────────────\n",
       "               2                            2              "
      ]
     },
     "metadata": {},
     "output_type": "display_data"
    }
   ],
   "source": [
    "print(\"Рассматриваем полное представление материала Блейтца и Ко.\")\n",
    "W3 = BlatzAndKoFull()\n",
    "display(sym.Eq(sym.Symbol('W'), W3))"
   ]
  },
  {
   "cell_type": "code",
   "execution_count": 31,
   "metadata": {
    "tags": []
   },
   "outputs": [],
   "source": [
    "t = time.time()\n",
    "D = MySimplifyMatrix(2*dW(W3, G)*C)\n",
    "DA = D*A\n",
    "for m in range(3):\n",
    "    for n in range(3):\n",
    "        DA[m, n] = DA[m, n]/h[m]/h[n]\n",
    "divD = TensorSecondRankDiv(DA, q, gamma, h)\n",
    "divD = MySimplifyMatrix(divD*(A.T))\n",
    "fullTime = round(time.time()-t, 3) #Округление до миллисекунд."
   ]
  },
  {
   "cell_type": "code",
   "execution_count": 32,
   "metadata": {
    "tags": []
   },
   "outputs": [
    {
     "name": "stdout",
     "output_type": "stream",
     "text": [
      "Уравнение равновесия и граничное условие:\n"
     ]
    },
    {
     "data": {
      "text/latex": [
       "$\\displaystyle \\frac{d^{2}}{d r^{2}} P{\\left(r \\right)} = \\frac{\\left(\\frac{2 \\alpha \\beta k^{4} r^{4 \\alpha + 1} \\left(\\left(\\frac{d}{d r} P{\\left(r \\right)}\\right)^{2}\\right)^{\\alpha} P^{3}{\\left(r \\right)}}{\\frac{d}{d r} P{\\left(r \\right)}} - 2 \\alpha \\beta k^{4} r^{4 \\alpha + 2} \\left(\\left(\\frac{d}{d r} P{\\left(r \\right)}\\right)^{2}\\right)^{\\alpha} P^{2}{\\left(r \\right)} + 2 \\alpha \\beta k^{4 \\alpha + 4} r^{2} \\left(\\left(\\frac{d}{d r} P{\\left(r \\right)}\\right)^{2}\\right)^{\\alpha} P^{4 \\alpha + 2}{\\left(r \\right)} \\left(\\frac{d}{d r} P{\\left(r \\right)}\\right)^{4 \\alpha} - 2 \\alpha \\beta k^{4 \\alpha + 4} r \\left(\\left(\\frac{d}{d r} P{\\left(r \\right)}\\right)^{2}\\right)^{\\alpha} P^{4 \\alpha + 3}{\\left(r \\right)} \\left(\\frac{d}{d r} P{\\left(r \\right)}\\right)^{4 \\alpha - 1} - 2 \\alpha k^{4 \\alpha + 4} r^{2} \\left(\\left(\\frac{d}{d r} P{\\left(r \\right)}\\right)^{2}\\right)^{\\alpha} P^{4 \\alpha + 2}{\\left(r \\right)} \\left(\\frac{d}{d r} P{\\left(r \\right)}\\right)^{4 \\alpha} + 2 \\alpha k^{4 \\alpha + 4} r \\left(\\left(\\frac{d}{d r} P{\\left(r \\right)}\\right)^{2}\\right)^{\\alpha} P^{4 \\alpha + 3}{\\left(r \\right)} \\left(\\frac{d}{d r} P{\\left(r \\right)}\\right)^{4 \\alpha - 1} + \\frac{\\beta k^{4} r^{4 \\alpha + 1} \\left(\\left(\\frac{d}{d r} P{\\left(r \\right)}\\right)^{2}\\right)^{\\alpha} P^{3}{\\left(r \\right)}}{\\frac{d}{d r} P{\\left(r \\right)}} - \\beta k^{4} r^{4 \\alpha + 2} \\left(\\left(\\frac{d}{d r} P{\\left(r \\right)}\\right)^{2}\\right)^{\\alpha} P^{2}{\\left(r \\right)} - \\beta k^{2} \\psi^{2} r^{4 \\alpha + 2} \\left(\\left(\\frac{d}{d r} P{\\left(r \\right)}\\right)^{2}\\right)^{\\alpha} P^{4}{\\left(r \\right)} + \\beta k^{2} \\psi^{2} r^{4 \\alpha + 2} P^{4}{\\left(r \\right)} \\left(\\frac{d}{d r} P{\\left(r \\right)}\\right)^{2 \\alpha} + \\beta k^{2 \\alpha} \\psi^{4} \\left(r P{\\left(r \\right)}\\right)^{2 \\alpha + 4} \\left(\\left(\\frac{d}{d r} P{\\left(r \\right)}\\right)^{2}\\right)^{2 \\alpha} + \\beta k^{2 \\alpha} \\psi^{2} r^{2 \\alpha + 2} \\left(\\left(\\frac{d}{d r} P{\\left(r \\right)}\\right)^{2}\\right)^{2 \\alpha} P^{2 \\alpha + 4}{\\left(r \\right)} - \\beta k^{2 \\alpha + 4} r^{2 \\alpha + 1} \\left(\\left(\\frac{d}{d r} P{\\left(r \\right)}\\right)^{2}\\right)^{2 \\alpha} P^{2 \\alpha + 3}{\\left(r \\right)} \\frac{d}{d r} P{\\left(r \\right)} - \\frac{\\beta k^{2 \\alpha + 4} r^{2 \\alpha + 1} \\left(\\left(\\frac{d}{d r} P{\\left(r \\right)}\\right)^{2}\\right)^{2 \\alpha} P^{2 \\alpha + 3}{\\left(r \\right)}}{\\left(\\frac{d}{d r} P{\\left(r \\right)}\\right)^{3}} + \\beta k^{4 \\alpha + 2} \\psi^{2} r^{2} \\left(\\left(\\frac{d}{d r} P{\\left(r \\right)}\\right)^{2}\\right)^{2 \\alpha} P^{4 \\alpha + 4}{\\left(r \\right)} \\left(\\frac{d}{d r} P{\\left(r \\right)}\\right)^{2 \\alpha} - \\beta k^{4 \\alpha + 2} \\psi^{2} r^{2} \\left(\\left(\\frac{d}{d r} P{\\left(r \\right)}\\right)^{2}\\right)^{\\alpha} P^{4 \\alpha + 4}{\\left(r \\right)} \\left(\\frac{d}{d r} P{\\left(r \\right)}\\right)^{4 \\alpha} - \\beta k^{4 \\alpha + 4} r^{2} \\left(\\left(\\frac{d}{d r} P{\\left(r \\right)}\\right)^{2}\\right)^{\\alpha} P^{4 \\alpha + 2}{\\left(r \\right)} \\left(\\frac{d}{d r} P{\\left(r \\right)}\\right)^{4 \\alpha} + \\beta k^{4 \\alpha + 4} r \\left(\\left(\\frac{d}{d r} P{\\left(r \\right)}\\right)^{2}\\right)^{\\alpha} P^{4 \\alpha + 3}{\\left(r \\right)} \\left(\\frac{d}{d r} P{\\left(r \\right)}\\right)^{4 \\alpha - 1} - \\beta \\psi^{4} \\left(k^{2} \\left(\\frac{d}{d r} P{\\left(r \\right)}\\right)^{2}\\right)^{\\alpha} \\left(r P{\\left(r \\right)}\\right)^{2 \\alpha + 4} \\left(\\frac{d}{d r} P{\\left(r \\right)}\\right)^{2 \\alpha} + \\beta \\psi^{2} r^{2 \\alpha + 2} \\left(k P{\\left(r \\right)}\\right)^{2 \\alpha + 4} \\left(\\left(\\frac{d}{d r} P{\\left(r \\right)}\\right)^{2}\\right)^{2 \\alpha} - \\beta \\psi^{2} r^{2 \\alpha + 2} \\left(k^{2} \\left(\\frac{d}{d r} P{\\left(r \\right)}\\right)^{2}\\right)^{\\alpha} P^{2 \\alpha + 4}{\\left(r \\right)} \\left(\\frac{d}{d r} P{\\left(r \\right)}\\right)^{2 \\alpha} + \\beta \\left(k r\\right)^{2 \\alpha + 4} \\left(P^{2}{\\left(r \\right)} \\left(\\frac{d}{d r} P{\\left(r \\right)}\\right)^{2}\\right)^{\\alpha} \\left(\\frac{d}{d r} P{\\left(r \\right)}\\right)^{2 \\alpha} + \\beta \\left(k P{\\left(r \\right)}\\right)^{2 \\alpha + 4} \\left(r^{2} \\left(\\frac{d}{d r} P{\\left(r \\right)}\\right)^{2}\\right)^{\\alpha} \\left(\\frac{d}{d r} P{\\left(r \\right)}\\right)^{2 \\alpha} - k^{2 \\alpha} \\psi^{4} \\left(r P{\\left(r \\right)}\\right)^{2 \\alpha + 4} \\left(\\left(\\frac{d}{d r} P{\\left(r \\right)}\\right)^{2}\\right)^{2 \\alpha} - k^{2 \\alpha} \\psi^{2} r^{2 \\alpha + 2} \\left(\\left(\\frac{d}{d r} P{\\left(r \\right)}\\right)^{2}\\right)^{2 \\alpha} P^{2 \\alpha + 4}{\\left(r \\right)} + \\frac{k^{2 \\alpha + 4} r^{2 \\alpha + 1} \\left(\\left(\\frac{d}{d r} P{\\left(r \\right)}\\right)^{2}\\right)^{2 \\alpha} P^{2 \\alpha + 3}{\\left(r \\right)}}{\\left(\\frac{d}{d r} P{\\left(r \\right)}\\right)^{3}} - k^{4 \\alpha + 2} \\psi^{2} r^{2} \\left(\\left(\\frac{d}{d r} P{\\left(r \\right)}\\right)^{2}\\right)^{2 \\alpha} P^{4 \\alpha + 4}{\\left(r \\right)} \\left(\\frac{d}{d r} P{\\left(r \\right)}\\right)^{2 \\alpha} + k^{4 \\alpha + 2} \\psi^{2} r^{2} \\left(\\left(\\frac{d}{d r} P{\\left(r \\right)}\\right)^{2}\\right)^{\\alpha} P^{4 \\alpha + 4}{\\left(r \\right)} \\left(\\frac{d}{d r} P{\\left(r \\right)}\\right)^{4 \\alpha} + k^{4 \\alpha + 4} r^{2} \\left(\\left(\\frac{d}{d r} P{\\left(r \\right)}\\right)^{2}\\right)^{\\alpha} P^{4 \\alpha + 2}{\\left(r \\right)} \\left(\\frac{d}{d r} P{\\left(r \\right)}\\right)^{4 \\alpha} - k^{4 \\alpha + 4} r \\left(\\left(\\frac{d}{d r} P{\\left(r \\right)}\\right)^{2}\\right)^{\\alpha} P^{4 \\alpha + 3}{\\left(r \\right)} \\left(\\frac{d}{d r} P{\\left(r \\right)}\\right)^{4 \\alpha - 1} + \\psi^{4} \\left(k^{2} \\left(\\frac{d}{d r} P{\\left(r \\right)}\\right)^{2}\\right)^{\\alpha} \\left(r P{\\left(r \\right)}\\right)^{2 \\alpha + 4} \\left(\\frac{d}{d r} P{\\left(r \\right)}\\right)^{2 \\alpha} + \\psi^{2} r^{2 \\alpha + 2} \\left(k^{2} \\left(\\frac{d}{d r} P{\\left(r \\right)}\\right)^{2}\\right)^{\\alpha} P^{2 \\alpha + 4}{\\left(r \\right)} \\left(\\frac{d}{d r} P{\\left(r \\right)}\\right)^{2 \\alpha} - \\left(k r\\right)^{2 \\alpha + 4} \\left(P^{2}{\\left(r \\right)} \\left(\\frac{d}{d r} P{\\left(r \\right)}\\right)^{2}\\right)^{\\alpha} \\left(\\frac{d}{d r} P{\\left(r \\right)}\\right)^{2 \\alpha}\\right) \\left(\\left(\\frac{d}{d r} P{\\left(r \\right)}\\right)^{2}\\right)^{- \\alpha}}{\\frac{2 \\alpha \\beta k^{4} r^{4 \\alpha + 2} P^{3}{\\left(r \\right)}}{\\left(\\frac{d}{d r} P{\\left(r \\right)}\\right)^{2}} - 2 \\alpha \\beta k^{4 \\alpha + 4} r^{2} P^{4 \\alpha + 3}{\\left(r \\right)} \\left(\\frac{d}{d r} P{\\left(r \\right)}\\right)^{4 \\alpha - 2} + 2 \\alpha k^{4 \\alpha + 4} r^{2} P^{4 \\alpha + 3}{\\left(r \\right)} \\left(\\frac{d}{d r} P{\\left(r \\right)}\\right)^{4 \\alpha - 2} + \\frac{\\beta k^{4} r^{4 \\alpha + 2} P^{3}{\\left(r \\right)}}{\\left(\\frac{d}{d r} P{\\left(r \\right)}\\right)^{2}} + \\beta k^{2 \\alpha + 4} r^{2 \\alpha + 2} \\left(\\left(\\frac{d}{d r} P{\\left(r \\right)}\\right)^{2}\\right)^{\\alpha} P^{2 \\alpha + 3}{\\left(r \\right)} - \\frac{3 \\beta k^{2 \\alpha + 4} r^{2 \\alpha + 2} \\left(\\left(\\frac{d}{d r} P{\\left(r \\right)}\\right)^{2}\\right)^{\\alpha} P^{2 \\alpha + 3}{\\left(r \\right)}}{\\left(\\frac{d}{d r} P{\\left(r \\right)}\\right)^{4}} + \\beta k^{4 \\alpha + 4} r^{2} P^{4 \\alpha + 3}{\\left(r \\right)} \\left(\\frac{d}{d r} P{\\left(r \\right)}\\right)^{4 \\alpha - 2} + \\frac{3 k^{2 \\alpha + 4} r^{2 \\alpha + 2} \\left(\\left(\\frac{d}{d r} P{\\left(r \\right)}\\right)^{2}\\right)^{\\alpha} P^{2 \\alpha + 3}{\\left(r \\right)}}{\\left(\\frac{d}{d r} P{\\left(r \\right)}\\right)^{4}} - k^{4 \\alpha + 4} r^{2} P^{4 \\alpha + 3}{\\left(r \\right)} \\left(\\frac{d}{d r} P{\\left(r \\right)}\\right)^{4 \\alpha - 2}}$"
      ],
      "text/plain": [
       "            ⎛                               α                                 \n",
       "            ⎜                  ⎛          2⎞                                  \n",
       "            ⎜       4  4⋅α + 1 ⎜⎛d       ⎞ ⎟   3                              \n",
       "            ⎜2⋅α⋅β⋅k ⋅r       ⋅⎜⎜──(P(r))⎟ ⎟ ⋅P (r)                     ⎛     \n",
       "            ⎜                  ⎝⎝dr      ⎠ ⎠                 4  4⋅α + 2 ⎜⎛d   \n",
       "            ⎜────────────────────────────────────── - 2⋅α⋅β⋅k ⋅r       ⋅⎜⎜──(P\n",
       "            ⎜               d                                           ⎝⎝dr  \n",
       "            ⎜               ──(P(r))                                          \n",
       "  2         ⎜               dr                                                \n",
       " d          ⎝                                                                 \n",
       "───(P(r)) = ──────────────────────────────────────────────────────────────────\n",
       "  2                                                                           \n",
       "dr                                                                            \n",
       "                                                                              \n",
       "                                                                              \n",
       "                                                                              \n",
       "                                                                              \n",
       "                                                                              \n",
       "                                                                              \n",
       "                                                                              \n",
       "                                                                              \n",
       "\n",
       "                                                                              \n",
       "                                                                              \n",
       "       α                                        α                             \n",
       "     2⎞                            ⎛          2⎞                        4⋅α   \n",
       "    ⎞ ⎟   2             4⋅α + 4  2 ⎜⎛d       ⎞ ⎟   4⋅α + 2    ⎛d       ⎞      \n",
       "(r))⎟ ⎟ ⋅P (r) + 2⋅α⋅β⋅k       ⋅r ⋅⎜⎜──(P(r))⎟ ⎟ ⋅P       (r)⋅⎜──(P(r))⎟    - \n",
       "    ⎠ ⎠                            ⎝⎝dr      ⎠ ⎠              ⎝dr      ⎠      \n",
       "                                                                              \n",
       "                                                                              \n",
       "                                                                              \n",
       "──────────────────────────────────────────────────────────────────────────────\n",
       "                                                                              \n",
       "                                                                              \n",
       "                                                                              \n",
       "                                                                              \n",
       "                                                                              \n",
       "                                                                              \n",
       "                                                                              \n",
       "                                                                              \n",
       "                                                                              \n",
       "                                                                              \n",
       "\n",
       "                                                                              \n",
       "                                                                              \n",
       "                              α                                               \n",
       "                 ⎛          2⎞                        4⋅α - 1                 \n",
       "       4⋅α + 4   ⎜⎛d       ⎞ ⎟   4⋅α + 3    ⎛d       ⎞               4⋅α + 4  \n",
       "2⋅α⋅β⋅k       ⋅r⋅⎜⎜──(P(r))⎟ ⎟ ⋅P       (r)⋅⎜──(P(r))⎟        - 2⋅α⋅k       ⋅r\n",
       "                 ⎝⎝dr      ⎠ ⎠              ⎝dr      ⎠                        \n",
       "                                                                              \n",
       "                                                                              \n",
       "                                                                              \n",
       "──────────────────────────────────────────────────────────────────────────────\n",
       "                                                                              \n",
       "                                                                              \n",
       "                                                                              \n",
       "                                                                              \n",
       "                                                                              \n",
       "                                                                              \n",
       "                                                                              \n",
       "                                                                              \n",
       "                                                                              \n",
       "                                                                              \n",
       "\n",
       "                                                                              \n",
       "                                                                              \n",
       "               α                                                         α    \n",
       "  ⎛          2⎞                        4⋅α                  ⎛          2⎞     \n",
       "2 ⎜⎛d       ⎞ ⎟   4⋅α + 2    ⎛d       ⎞           4⋅α + 4   ⎜⎛d       ⎞ ⎟   4⋅\n",
       " ⋅⎜⎜──(P(r))⎟ ⎟ ⋅P       (r)⋅⎜──(P(r))⎟    + 2⋅α⋅k       ⋅r⋅⎜⎜──(P(r))⎟ ⎟ ⋅P  \n",
       "  ⎝⎝dr      ⎠ ⎠              ⎝dr      ⎠                     ⎝⎝dr      ⎠ ⎠     \n",
       "                                                                              \n",
       "                                                                              \n",
       "                                                                              \n",
       "──────────────────────────────────────────────────────────────────────────────\n",
       "                                                                              \n",
       "                                                                              \n",
       "                                                                              \n",
       "                                                                              \n",
       "                                                                              \n",
       "                                                                              \n",
       "                                                                              \n",
       "                                                                              \n",
       "                                                                              \n",
       "                                                                              \n",
       "\n",
       "                                                        α                     \n",
       "                                           ⎛          2⎞                      \n",
       "                                4  4⋅α + 1 ⎜⎛d       ⎞ ⎟   3                  \n",
       "                   4⋅α - 1   β⋅k ⋅r       ⋅⎜⎜──(P(r))⎟ ⎟ ⋅P (r)               \n",
       "α + 3    ⎛d       ⎞                        ⎝⎝dr      ⎠ ⎠             4  4⋅α + \n",
       "     (r)⋅⎜──(P(r))⎟        + ────────────────────────────────── - β⋅k ⋅r      \n",
       "         ⎝dr      ⎠                       d                                   \n",
       "                                          ──(P(r))                            \n",
       "                                          dr                                  \n",
       "                                                                              \n",
       "──────────────────────────────────────────────────────────────────────────────\n",
       "                                                                              \n",
       "                                                                              \n",
       "                                                                              \n",
       "                                                                              \n",
       "                                                                              \n",
       "                                                                              \n",
       "                                                                              \n",
       "                                                                              \n",
       "                                                                              \n",
       "                                                                              \n",
       "\n",
       "                                                                              \n",
       "                                                                              \n",
       "               α                                       α                      \n",
       "  ⎛          2⎞                           ⎛          2⎞                       \n",
       "2 ⎜⎛d       ⎞ ⎟   2         2  2  4⋅α + 2 ⎜⎛d       ⎞ ⎟   4         2  2  4⋅α \n",
       " ⋅⎜⎜──(P(r))⎟ ⎟ ⋅P (r) - β⋅k ⋅ψ ⋅r       ⋅⎜⎜──(P(r))⎟ ⎟ ⋅P (r) + β⋅k ⋅ψ ⋅r    \n",
       "  ⎝⎝dr      ⎠ ⎠                           ⎝⎝dr      ⎠ ⎠                       \n",
       "                                                                              \n",
       "                                                                              \n",
       "                                                                              \n",
       "──────────────────────────────────────────────────────────────────────────────\n",
       "                                                                              \n",
       "                                                                              \n",
       "                                                                              \n",
       "                                                                              \n",
       "                                                                              \n",
       "                                                                              \n",
       "                                                                              \n",
       "                                                                              \n",
       "                                                                              \n",
       "                                                                              \n",
       "\n",
       "                                                                              \n",
       "                                                                              \n",
       "                                                                 2⋅α          \n",
       "                    2⋅α                             ⎛          2⎞             \n",
       "+ 2  4    ⎛d       ⎞         2⋅α  4         2⋅α + 4 ⎜⎛d       ⎞ ⎟         2⋅α \n",
       "   ⋅P (r)⋅⎜──(P(r))⎟    + β⋅k   ⋅ψ ⋅(r⋅P(r))       ⋅⎜⎜──(P(r))⎟ ⎟    + β⋅k   ⋅\n",
       "          ⎝dr      ⎠                                ⎝⎝dr      ⎠ ⎠             \n",
       "                                                                              \n",
       "                                                                              \n",
       "                                                                              \n",
       "──────────────────────────────────────────────────────────────────────────────\n",
       "                                                                              \n",
       "                                                                              \n",
       "                                                                              \n",
       "                                                                              \n",
       "                                                                              \n",
       "                                                                              \n",
       "                                                                              \n",
       "                                                                              \n",
       "                                                                              \n",
       "                                                                              \n",
       "\n",
       "                                                                              \n",
       "                                                                              \n",
       "                         2⋅α                                                2⋅\n",
       "            ⎛          2⎞                                      ⎛          2⎞  \n",
       " 2  2⋅α + 2 ⎜⎛d       ⎞ ⎟     2⋅α + 4         2⋅α + 4  2⋅α + 1 ⎜⎛d       ⎞ ⎟  \n",
       "ψ ⋅r       ⋅⎜⎜──(P(r))⎟ ⎟   ⋅P       (r) - β⋅k       ⋅r       ⋅⎜⎜──(P(r))⎟ ⎟  \n",
       "            ⎝⎝dr      ⎠ ⎠                                      ⎝⎝dr      ⎠ ⎠  \n",
       "                                                                              \n",
       "                                                                              \n",
       "                                                                              \n",
       "──────────────────────────────────────────────────────────────────────────────\n",
       "                                                                              \n",
       "                                                                              \n",
       "                                                                              \n",
       "                                                                              \n",
       "                                                                              \n",
       "                                                                              \n",
       "                                                                              \n",
       "                                                                              \n",
       "                                                                              \n",
       "                                                                              \n",
       "\n",
       "                                                          2⋅α                 \n",
       "                                             ⎛          2⎞                    \n",
       "α                           2⋅α + 4  2⋅α + 1 ⎜⎛d       ⎞ ⎟     2⋅α + 3        \n",
       "                         β⋅k       ⋅r       ⋅⎜⎜──(P(r))⎟ ⎟   ⋅P       (r)     \n",
       "   2⋅α + 3    d                              ⎝⎝dr      ⎠ ⎠                    \n",
       " ⋅P       (r)⋅──(P(r)) - ──────────────────────────────────────────────── + β⋅\n",
       "              dr                                     3                        \n",
       "                                           ⎛d       ⎞                         \n",
       "                                           ⎜──(P(r))⎟                         \n",
       "                                           ⎝dr      ⎠                         \n",
       "──────────────────────────────────────────────────────────────────────────────\n",
       "                                                                              \n",
       "                                                                              \n",
       "                                                                              \n",
       "                                                                           4  \n",
       "                                                                    2⋅α⋅β⋅k ⋅r\n",
       "                                                                    ──────────\n",
       "                                                                              \n",
       "                                                                          ⎛d  \n",
       "                                                                          ⎜──(\n",
       "                                                                          ⎝dr \n",
       "\n",
       "                                                                              \n",
       "                                                                              \n",
       "                            2⋅α                                               \n",
       "               ⎛          2⎞                          2⋅α                    ⎛\n",
       " 4⋅α + 2  2  2 ⎜⎛d       ⎞ ⎟     4⋅α + 4    ⎛d       ⎞         4⋅α + 2  2  2 ⎜\n",
       "k       ⋅ψ ⋅r ⋅⎜⎜──(P(r))⎟ ⎟   ⋅P       (r)⋅⎜──(P(r))⎟    - β⋅k       ⋅ψ ⋅r ⋅⎜\n",
       "               ⎝⎝dr      ⎠ ⎠                ⎝dr      ⎠                       ⎝\n",
       "                                                                              \n",
       "                                                                              \n",
       "                                                                              \n",
       "──────────────────────────────────────────────────────────────────────────────\n",
       "                                                                              \n",
       "                                                                              \n",
       "                                                                              \n",
       "4⋅α + 2  3                                              4⋅α - 2               \n",
       "       ⋅P (r)          4⋅α + 4  2  4⋅α + 3    ⎛d       ⎞               4⋅α + 4\n",
       "───────────── - 2⋅α⋅β⋅k       ⋅r ⋅P       (r)⋅⎜──(P(r))⎟        + 2⋅α⋅k       \n",
       "      2                                       ⎝dr      ⎠                      \n",
       "     ⎞                                                                        \n",
       "P(r))⎟                                                                        \n",
       "     ⎠                                                                        \n",
       "\n",
       "                                                                              \n",
       "                                                                              \n",
       "            α                                                        α        \n",
       "          2⎞                        4⋅α                 ⎛          2⎞         \n",
       "⎛d       ⎞ ⎟   4⋅α + 4    ⎛d       ⎞         4⋅α + 4  2 ⎜⎛d       ⎞ ⎟   4⋅α + \n",
       "⎜──(P(r))⎟ ⎟ ⋅P       (r)⋅⎜──(P(r))⎟    - β⋅k       ⋅r ⋅⎜⎜──(P(r))⎟ ⎟ ⋅P      \n",
       "⎝dr      ⎠ ⎠              ⎝dr      ⎠                    ⎝⎝dr      ⎠ ⎠         \n",
       "                                                                              \n",
       "                                                                              \n",
       "                                                                              \n",
       "──────────────────────────────────────────────────────────────────────────────\n",
       "                                                                              \n",
       "                                                                              \n",
       "                                                                              \n",
       "                          4⋅α - 2      4  4⋅α + 2  3                          \n",
       "  2  4⋅α + 3    ⎛d       ⎞          β⋅k ⋅r       ⋅P (r)      2⋅α + 4  2⋅α + 2 \n",
       "⋅r ⋅P       (r)⋅⎜──(P(r))⎟        + ─────────────────── + β⋅k       ⋅r       ⋅\n",
       "                ⎝dr      ⎠                        2                           \n",
       "                                        ⎛d       ⎞                            \n",
       "                                        ⎜──(P(r))⎟                            \n",
       "                                        ⎝dr      ⎠                            \n",
       "\n",
       "                                                                              \n",
       "                                                                              \n",
       "                                               α                              \n",
       "               4⋅α                ⎛          2⎞                        4⋅α - 1\n",
       "2    ⎛d       ⎞         4⋅α + 4   ⎜⎛d       ⎞ ⎟   4⋅α + 3    ⎛d       ⎞       \n",
       " (r)⋅⎜──(P(r))⎟    + β⋅k       ⋅r⋅⎜⎜──(P(r))⎟ ⎟ ⋅P       (r)⋅⎜──(P(r))⎟       \n",
       "     ⎝dr      ⎠                   ⎝⎝dr      ⎠ ⎠              ⎝dr      ⎠       \n",
       "                                                                              \n",
       "                                                                              \n",
       "                                                                              \n",
       "──────────────────────────────────────────────────────────────────────────────\n",
       "                                                                α             \n",
       "                                                   ⎛          2⎞              \n",
       "             α                    2⋅α + 4  2⋅α + 2 ⎜⎛d       ⎞ ⎟   2⋅α + 3    \n",
       "⎛          2⎞                3⋅β⋅k       ⋅r       ⋅⎜⎜──(P(r))⎟ ⎟ ⋅P       (r) \n",
       "⎜⎛d       ⎞ ⎟   2⋅α + 3                            ⎝⎝dr      ⎠ ⎠              \n",
       "⎜⎜──(P(r))⎟ ⎟ ⋅P       (r) - ──────────────────────────────────────────────── \n",
       "⎝⎝dr      ⎠ ⎠                                            4                    \n",
       "                                               ⎛d       ⎞                     \n",
       "                                               ⎜──(P(r))⎟                     \n",
       "                                               ⎝dr      ⎠                     \n",
       "\n",
       "                                                                              \n",
       "                                                                              \n",
       "                        α                                                     \n",
       "        ⎛             2⎞                            2⋅α                       \n",
       "      4 ⎜ 2 ⎛d       ⎞ ⎟          2⋅α + 4 ⎛d       ⎞         2  2⋅α + 2       \n",
       " - β⋅ψ ⋅⎜k ⋅⎜──(P(r))⎟ ⎟ ⋅(r⋅P(r))       ⋅⎜──(P(r))⎟    + β⋅ψ ⋅r       ⋅(k⋅P(r\n",
       "        ⎝   ⎝dr      ⎠ ⎠                  ⎝dr      ⎠                          \n",
       "                                                                              \n",
       "                                                                              \n",
       "                                                                              \n",
       "──────────────────────────────────────────────────────────────────────────────\n",
       "                                                                              \n",
       "                                                                    ⎛         \n",
       "                                                   2⋅α + 4  2⋅α + 2 ⎜⎛d       \n",
       "                                      4⋅α - 2   3⋅k       ⋅r       ⋅⎜⎜──(P(r))\n",
       "     4⋅α + 4  2  4⋅α + 3    ⎛d       ⎞                              ⎝⎝dr      \n",
       "+ β⋅k       ⋅r ⋅P       (r)⋅⎜──(P(r))⎟        + ──────────────────────────────\n",
       "                            ⎝dr      ⎠                                     4  \n",
       "                                                                 ⎛d       ⎞   \n",
       "                                                                 ⎜──(P(r))⎟   \n",
       "                                                                 ⎝dr      ⎠   \n",
       "\n",
       "                                                                              \n",
       "                                                                              \n",
       "                       2⋅α                                 α                  \n",
       "          ⎛          2⎞                    ⎛             2⎞                   \n",
       "  2⋅α + 4 ⎜⎛d       ⎞ ⎟         2  2⋅α + 2 ⎜ 2 ⎛d       ⎞ ⎟   2⋅α + 4    ⎛d   \n",
       "))       ⋅⎜⎜──(P(r))⎟ ⎟    - β⋅ψ ⋅r       ⋅⎜k ⋅⎜──(P(r))⎟ ⎟ ⋅P       (r)⋅⎜──(P\n",
       "          ⎝⎝dr      ⎠ ⎠                    ⎝   ⎝dr      ⎠ ⎠              ⎝dr  \n",
       "                                                                              \n",
       "                                                                              \n",
       "                                                                              \n",
       "──────────────────────────────────────────────────────────────────────────────\n",
       "   α                                                                          \n",
       " 2⎞                                                                           \n",
       "⎞ ⎟   2⋅α + 3                                                                 \n",
       "⎟ ⎟ ⋅P       (r)                                     4⋅α - 2                  \n",
       "⎠ ⎠                 4⋅α + 4  2  4⋅α + 3    ⎛d       ⎞                         \n",
       "──────────────── - k       ⋅r ⋅P       (r)⋅⎜──(P(r))⎟                         \n",
       "                                           ⎝dr      ⎠                         \n",
       "                                                                              \n",
       "                                                                              \n",
       "                                                                              \n",
       "\n",
       "                                                                              \n",
       "                                                                              \n",
       "                                             α                                \n",
       "     2⋅α                  ⎛                2⎞            2⋅α                  \n",
       "    ⎞             2⋅α + 4 ⎜ 2    ⎛d       ⎞ ⎟  ⎛d       ⎞                2⋅α +\n",
       "(r))⎟    + β⋅(k⋅r)       ⋅⎜P (r)⋅⎜──(P(r))⎟ ⎟ ⋅⎜──(P(r))⎟    + β⋅(k⋅P(r))     \n",
       "    ⎠                     ⎝      ⎝dr      ⎠ ⎠  ⎝dr      ⎠                     \n",
       "                                                                              \n",
       "                                                                              \n",
       "                                                                              \n",
       "──────────────────────────────────────────────────────────────────────────────\n",
       "                                                                              \n",
       "                                                                              \n",
       "                                                                              \n",
       "                                                                              \n",
       "                                                                              \n",
       "                                                                              \n",
       "                                                                              \n",
       "                                                                              \n",
       "                                                                              \n",
       "                                                                              \n",
       "\n",
       "                                                                              \n",
       "                                                                              \n",
       "                   α                                                      2⋅α \n",
       "   ⎛             2⎞            2⋅α                           ⎛          2⎞    \n",
       " 4 ⎜ 2 ⎛d       ⎞ ⎟  ⎛d       ⎞       2⋅α  4         2⋅α + 4 ⎜⎛d       ⎞ ⎟    \n",
       "  ⋅⎜r ⋅⎜──(P(r))⎟ ⎟ ⋅⎜──(P(r))⎟    - k   ⋅ψ ⋅(r⋅P(r))       ⋅⎜⎜──(P(r))⎟ ⎟    \n",
       "   ⎝   ⎝dr      ⎠ ⎠  ⎝dr      ⎠                              ⎝⎝dr      ⎠ ⎠    \n",
       "                                                                              \n",
       "                                                                              \n",
       "                                                                              \n",
       "──────────────────────────────────────────────────────────────────────────────\n",
       "                                                                              \n",
       "                                                                              \n",
       "                                                                              \n",
       "                                                                              \n",
       "                                                                              \n",
       "                                                                              \n",
       "                                                                              \n",
       "                                                                              \n",
       "                                                                              \n",
       "                                                                              \n",
       "\n",
       "                                                                              \n",
       "                                                                    ⎛         \n",
       "                                2⋅α                2⋅α + 4  2⋅α + 1 ⎜⎛d       \n",
       "                   ⎛          2⎞                  k       ⋅r       ⋅⎜⎜──(P(r))\n",
       "   2⋅α  2  2⋅α + 2 ⎜⎛d       ⎞ ⎟     2⋅α + 4                        ⎝⎝dr      \n",
       "- k   ⋅ψ ⋅r       ⋅⎜⎜──(P(r))⎟ ⎟   ⋅P       (r) + ────────────────────────────\n",
       "                   ⎝⎝dr      ⎠ ⎠                                             3\n",
       "                                                                   ⎛d       ⎞ \n",
       "                                                                   ⎜──(P(r))⎟ \n",
       "                                                                   ⎝dr      ⎠ \n",
       "──────────────────────────────────────────────────────────────────────────────\n",
       "                                                                              \n",
       "                                                                              \n",
       "                                                                              \n",
       "                                                                              \n",
       "                                                                              \n",
       "                                                                              \n",
       "                                                                              \n",
       "                                                                              \n",
       "                                                                              \n",
       "                                                                              \n",
       "\n",
       "   2⋅α                                                                        \n",
       " 2⎞                                                                           \n",
       "⎞ ⎟     2⋅α + 3                                  2⋅α                          \n",
       "⎟ ⎟   ⋅P       (r)                  ⎛          2⎞                          2⋅α\n",
       "⎠ ⎠                   4⋅α + 2  2  2 ⎜⎛d       ⎞ ⎟     4⋅α + 4    ⎛d       ⎞   \n",
       "────────────────── - k       ⋅ψ ⋅r ⋅⎜⎜──(P(r))⎟ ⎟   ⋅P       (r)⋅⎜──(P(r))⎟   \n",
       "                                    ⎝⎝dr      ⎠ ⎠                ⎝dr      ⎠   \n",
       "                                                                              \n",
       "                                                                              \n",
       "                                                                              \n",
       "──────────────────────────────────────────────────────────────────────────────\n",
       "                                                                              \n",
       "                                                                              \n",
       "                                                                              \n",
       "                                                                              \n",
       "                                                                              \n",
       "                                                                              \n",
       "                                                                              \n",
       "                                                                              \n",
       "                                                                              \n",
       "                                                                              \n",
       "\n",
       "                                                                              \n",
       "                                                                              \n",
       "                               α                                              \n",
       "                  ⎛          2⎞                        4⋅α               ⎛    \n",
       "    4⋅α + 2  2  2 ⎜⎛d       ⎞ ⎟   4⋅α + 4    ⎛d       ⎞       4⋅α + 4  2 ⎜⎛d  \n",
       " + k       ⋅ψ ⋅r ⋅⎜⎜──(P(r))⎟ ⎟ ⋅P       (r)⋅⎜──(P(r))⎟    + k       ⋅r ⋅⎜⎜──(\n",
       "                  ⎝⎝dr      ⎠ ⎠              ⎝dr      ⎠                  ⎝⎝dr \n",
       "                                                                              \n",
       "                                                                              \n",
       "                                                                              \n",
       "──────────────────────────────────────────────────────────────────────────────\n",
       "                                                                              \n",
       "                                                                              \n",
       "                                                                              \n",
       "                                                                              \n",
       "                                                                              \n",
       "                                                                              \n",
       "                                                                              \n",
       "                                                                              \n",
       "                                                                              \n",
       "                                                                              \n",
       "\n",
       "                                                                              \n",
       "                                                                              \n",
       "        α                                                     α               \n",
       "      2⎞                        4⋅α              ⎛          2⎞                \n",
       "     ⎞ ⎟   4⋅α + 2    ⎛d       ⎞       4⋅α + 4   ⎜⎛d       ⎞ ⎟   4⋅α + 3    ⎛d\n",
       "P(r))⎟ ⎟ ⋅P       (r)⋅⎜──(P(r))⎟    - k       ⋅r⋅⎜⎜──(P(r))⎟ ⎟ ⋅P       (r)⋅⎜─\n",
       "     ⎠ ⎠              ⎝dr      ⎠                 ⎝⎝dr      ⎠ ⎠              ⎝d\n",
       "                                                                              \n",
       "                                                                              \n",
       "                                                                              \n",
       "──────────────────────────────────────────────────────────────────────────────\n",
       "                                                                              \n",
       "                                                                              \n",
       "                                                                              \n",
       "                                                                              \n",
       "                                                                              \n",
       "                                                                              \n",
       "                                                                              \n",
       "                                                                              \n",
       "                                                                              \n",
       "                                                                              \n",
       "\n",
       "                                                                              \n",
       "                                                                              \n",
       "                                     α                                        \n",
       "        4⋅α - 1      ⎛             2⎞                            2⋅α          \n",
       "       ⎞           4 ⎜ 2 ⎛d       ⎞ ⎟          2⋅α + 4 ⎛d       ⎞       2  2⋅α\n",
       "─(P(r))⎟        + ψ ⋅⎜k ⋅⎜──(P(r))⎟ ⎟ ⋅(r⋅P(r))       ⋅⎜──(P(r))⎟    + ψ ⋅r   \n",
       "r      ⎠             ⎝   ⎝dr      ⎠ ⎠                  ⎝dr      ⎠             \n",
       "                                                                              \n",
       "                                                                              \n",
       "                                                                              \n",
       "──────────────────────────────────────────────────────────────────────────────\n",
       "                                                                              \n",
       "                                                                              \n",
       "                                                                              \n",
       "                                                                              \n",
       "                                                                              \n",
       "                                                                              \n",
       "                                                                              \n",
       "                                                                              \n",
       "                                                                              \n",
       "                                                                              \n",
       "\n",
       "                                                                              \n",
       "                                                                              \n",
       "                     α                                                        \n",
       "     ⎛             2⎞                        2⋅α                ⎛             \n",
       " + 2 ⎜ 2 ⎛d       ⎞ ⎟   2⋅α + 4    ⎛d       ⎞           2⋅α + 4 ⎜ 2    ⎛d     \n",
       "    ⋅⎜k ⋅⎜──(P(r))⎟ ⎟ ⋅P       (r)⋅⎜──(P(r))⎟    - (k⋅r)       ⋅⎜P (r)⋅⎜──(P(r\n",
       "     ⎝   ⎝dr      ⎠ ⎠              ⎝dr      ⎠                   ⎝      ⎝dr    \n",
       "                                                                              \n",
       "                                                                              \n",
       "                                                                              \n",
       "──────────────────────────────────────────────────────────────────────────────\n",
       "                                                                              \n",
       "                                                                              \n",
       "                                                                              \n",
       "                                                                              \n",
       "                                                                              \n",
       "                                                                              \n",
       "                                                                              \n",
       "                                                                              \n",
       "                                                                              \n",
       "                                                                              \n",
       "\n",
       "                    ⎞                \n",
       "                    ⎟                \n",
       "     α              ⎟              -α\n",
       "   2⎞            2⋅α⎟ ⎛          2⎞  \n",
       "  ⎞ ⎟  ⎛d       ⎞   ⎟ ⎜⎛d       ⎞ ⎟  \n",
       "))⎟ ⎟ ⋅⎜──(P(r))⎟   ⎟⋅⎜⎜──(P(r))⎟ ⎟  \n",
       "  ⎠ ⎠  ⎝dr      ⎠   ⎟ ⎝⎝dr      ⎠ ⎠  \n",
       "                    ⎟                \n",
       "                    ⎟                \n",
       "                    ⎠                \n",
       "─────────────────────────────────────\n",
       "                                     \n",
       "                                     \n",
       "                                     \n",
       "                                     \n",
       "                                     \n",
       "                                     \n",
       "                                     \n",
       "                                     \n",
       "                                     \n",
       "                                     "
      ]
     },
     "metadata": {},
     "output_type": "display_data"
    },
    {
     "data": {
      "text/latex": [
       "$\\displaystyle - \\mu \\left(k r P{\\left(r \\right)}\\right)^{- 2 \\alpha} \\left(\\beta \\left(k P{\\left(r \\right)}\\right)^{4 \\alpha} \\left(\\frac{d}{d r} P{\\left(r \\right)}\\right)^{4 \\alpha + 2} + r^{2 \\alpha} \\left(\\beta r^{2 \\alpha} \\left(\\frac{d}{d r} P{\\left(r \\right)}\\right)^{2} - \\beta \\left(k^{2} P^{2}{\\left(r \\right)} \\left(\\frac{d}{d r} P{\\left(r \\right)}\\right)^{2}\\right)^{\\alpha} \\left(\\frac{d}{d r} P{\\left(r \\right)}\\right)^{4} - \\beta \\left(k^{2} P^{2}{\\left(r \\right)} \\left(\\frac{d}{d r} P{\\left(r \\right)}\\right)^{2}\\right)^{\\alpha} + \\left(k^{2} P^{2}{\\left(r \\right)} \\left(\\frac{d}{d r} P{\\left(r \\right)}\\right)^{2}\\right)^{\\alpha}\\right) - \\left(k P{\\left(r \\right)}\\right)^{4 \\alpha} \\left(\\frac{d}{d r} P{\\left(r \\right)}\\right)^{4 \\alpha + 2}\\right) \\left(\\frac{d}{d r} P{\\left(r \\right)}\\right)^{- 2 \\alpha - 3} = 0$"
      ],
      "text/plain": [
       "                  ⎛                                       ⎛                   \n",
       "                  ⎜                        4⋅α + 2        ⎜                 2 \n",
       "             -2⋅α ⎜          4⋅α ⎛d       ⎞           2⋅α ⎜   2⋅α ⎛d       ⎞  \n",
       "-μ⋅(k⋅r⋅P(r))    ⋅⎜β⋅(k⋅P(r))   ⋅⎜──(P(r))⎟        + r   ⋅⎜β⋅r   ⋅⎜──(P(r))⎟  \n",
       "                  ⎝              ⎝dr      ⎠               ⎝       ⎝dr      ⎠  \n",
       "\n",
       "                          α                                       α           \n",
       "    ⎛                   2⎞            4     ⎛                   2⎞    ⎛       \n",
       "    ⎜ 2  2    ⎛d       ⎞ ⎟  ⎛d       ⎞      ⎜ 2  2    ⎛d       ⎞ ⎟    ⎜ 2  2  \n",
       "- β⋅⎜k ⋅P (r)⋅⎜──(P(r))⎟ ⎟ ⋅⎜──(P(r))⎟  - β⋅⎜k ⋅P (r)⋅⎜──(P(r))⎟ ⎟  + ⎜k ⋅P (r\n",
       "    ⎝         ⎝dr      ⎠ ⎠  ⎝dr      ⎠      ⎝         ⎝dr      ⎠ ⎠    ⎝       \n",
       "\n",
       "              α⎞                                ⎞                       \n",
       "            2⎞ ⎟                         4⋅α + 2⎟           -2⋅α - 3    \n",
       "  ⎛d       ⎞ ⎟ ⎟           4⋅α ⎛d       ⎞       ⎟ ⎛d       ⎞            \n",
       ")⋅⎜──(P(r))⎟ ⎟ ⎟ - (k⋅P(r))   ⋅⎜──(P(r))⎟       ⎟⋅⎜──(P(r))⎟         = 0\n",
       "  ⎝dr      ⎠ ⎠ ⎠               ⎝dr      ⎠       ⎠ ⎝dr      ⎠            "
      ]
     },
     "metadata": {},
     "output_type": "display_data"
    },
    {
     "name": "stdout",
     "output_type": "stream",
     "text": [
      "Время выполнения вычислений: 74.709 секунд.\n"
     ]
    }
   ],
   "source": [
    "print(\"Уравнение равновесия и граничное условие:\")\n",
    "display(sym.Eq(sym.diff(P, r, 2), sym.solve(divD[0], sym.diff(P, r, 2))[0]))\n",
    "display(sym.Eq(D[0, 0], 0))\n",
    "print(\"Время выполнения вычислений: \"+str(fullTime)+\" секунд.\")"
   ]
  },
  {
   "cell_type": "code",
   "execution_count": 33,
   "metadata": {
    "tags": []
   },
   "outputs": [
    {
     "name": "stdout",
     "output_type": "stream",
     "text": [
      "Рассматриваем тело Синьорини.\n"
     ]
    },
    {
     "data": {
      "text/latex": [
       "$\\displaystyle W = \\sqrt{I_{3}} \\left(\\frac{\\mu \\left(\\frac{I_{2} \\left(\\frac{I_{2}}{I_{3}} + 3\\right)}{I_{3}} - 18 \\sqrt{\\frac{1}{I_{3}}}\\right)}{18} + \\frac{\\left(9 \\lambda + 5 \\mu\\right) \\left(\\frac{I_{2}}{3 I_{3}} - 1\\right)^{2}}{8}\\right)$"
      ],
      "text/plain": [
       "           ⎛  ⎛   ⎛I₂    ⎞              ⎞                          ⎞\n",
       "           ⎜  ⎜I₂⋅⎜── + 3⎟          ____⎟                         2⎟\n",
       "           ⎜  ⎜   ⎝I₃    ⎠         ╱ 1  ⎟               ⎛ I₂     ⎞ ⎟\n",
       "           ⎜μ⋅⎜─────────── - 18⋅  ╱  ── ⎟   (9⋅λ + 5⋅μ)⋅⎜──── - 1⎟ ⎟\n",
       "      ____ ⎜  ⎝     I₃          ╲╱   I₃ ⎠               ⎝3⋅I₃    ⎠ ⎟\n",
       "W = ╲╱ I₃ ⋅⎜───────────────────────────── + ───────────────────────⎟\n",
       "           ⎝              18                           8           ⎠"
      ]
     },
     "metadata": {},
     "output_type": "display_data"
    }
   ],
   "source": [
    "print(\"Рассматриваем тело Синьорини.\")\n",
    "W4 = SignoriniBody()\n",
    "display(sym.Eq(sym.Symbol('W'), W4))"
   ]
  },
  {
   "cell_type": "code",
   "execution_count": 34,
   "metadata": {
    "tags": []
   },
   "outputs": [],
   "source": [
    "t = time.time()\n",
    "D = MySimplifyMatrix(2*dW(W4, G)*C)\n",
    "DA = D*A\n",
    "for m in range(3):\n",
    "    for n in range(3):\n",
    "        DA[m, n] = DA[m, n]/h[m]/h[n]\n",
    "divD = TensorSecondRankDiv(DA, q, gamma, h)\n",
    "divD = MySimplifyMatrix(divD*(A.T))\n",
    "signoriniTime = round(time.time()-t, 3) #Округление до миллисекунд."
   ]
  },
  {
   "cell_type": "code",
   "execution_count": 35,
   "metadata": {
    "tags": []
   },
   "outputs": [
    {
     "name": "stdout",
     "output_type": "stream",
     "text": [
      "Уравнение равновесия и граничное условие:\n"
     ]
    },
    {
     "data": {
      "text/latex": [
       "$\\displaystyle \\frac{d^{2}}{d r^{2}} P{\\left(r \\right)} = \\frac{\\left(- k^{4} \\lambda r^{3} \\left(\\frac{d}{d r} P{\\left(r \\right)}\\right)^{3} - k^{4} \\lambda r^{2} P{\\left(r \\right)} \\left(\\frac{d}{d r} P{\\left(r \\right)}\\right)^{2} + 3 k^{4} \\lambda r P^{2}{\\left(r \\right)} \\left(\\frac{d}{d r} P{\\left(r \\right)}\\right)^{3} + k^{4} \\lambda r P^{2}{\\left(r \\right)} \\frac{d}{d r} P{\\left(r \\right)} - 3 k^{4} \\lambda P^{3}{\\left(r \\right)} \\left(\\frac{d}{d r} P{\\left(r \\right)}\\right)^{2} + k^{4} \\lambda P^{3}{\\left(r \\right)} - k^{4} \\mu r^{3} \\left(\\frac{d}{d r} P{\\left(r \\right)}\\right)^{3} - k^{4} \\mu r^{2} P{\\left(r \\right)} \\left(\\frac{d}{d r} P{\\left(r \\right)}\\right)^{2} + k^{4} \\mu r P^{2}{\\left(r \\right)} \\left(\\frac{d}{d r} P{\\left(r \\right)}\\right)^{3} + k^{4} \\mu r P^{2}{\\left(r \\right)} \\frac{d}{d r} P{\\left(r \\right)} - k^{4} \\mu P^{3}{\\left(r \\right)} \\left(\\frac{d}{d r} P{\\left(r \\right)}\\right)^{2} + k^{4} \\mu P^{3}{\\left(r \\right)} - 2 k^{2} \\lambda \\psi^{2} r^{3} P^{2}{\\left(r \\right)} \\left(\\frac{d}{d r} P{\\left(r \\right)}\\right)^{3} + k^{2} \\lambda \\psi^{2} r^{2} P^{3}{\\left(r \\right)} \\left(\\frac{d}{d r} P{\\left(r \\right)}\\right)^{2} + 3 k^{2} \\lambda \\psi^{2} r P^{4}{\\left(r \\right)} \\left(\\frac{d}{d r} P{\\left(r \\right)}\\right)^{3} + k^{2} \\lambda \\psi^{2} r P^{4}{\\left(r \\right)} \\frac{d}{d r} P{\\left(r \\right)} - k^{2} \\lambda r P^{2}{\\left(r \\right)} \\left(\\frac{d}{d r} P{\\left(r \\right)}\\right)^{3} + k^{2} \\lambda P^{3}{\\left(r \\right)} \\left(\\frac{d}{d r} P{\\left(r \\right)}\\right)^{2} - 2 k^{2} \\mu \\psi^{2} r^{3} P^{2}{\\left(r \\right)} \\left(\\frac{d}{d r} P{\\left(r \\right)}\\right)^{3} + k^{2} \\mu \\psi^{2} r^{2} P^{3}{\\left(r \\right)} \\left(\\frac{d}{d r} P{\\left(r \\right)}\\right)^{2} + k^{2} \\mu \\psi^{2} r P^{4}{\\left(r \\right)} \\left(\\frac{d}{d r} P{\\left(r \\right)}\\right)^{3} + k^{2} \\mu \\psi^{2} r P^{4}{\\left(r \\right)} \\frac{d}{d r} P{\\left(r \\right)} - k^{2} \\mu r P^{2}{\\left(r \\right)} \\left(\\frac{d}{d r} P{\\left(r \\right)}\\right)^{3} + k^{2} \\mu P^{3}{\\left(r \\right)} \\left(\\frac{d}{d r} P{\\left(r \\right)}\\right)^{2} - \\lambda \\psi^{4} r^{3} P^{4}{\\left(r \\right)} \\left(\\frac{d}{d r} P{\\left(r \\right)}\\right)^{3} - \\lambda \\psi^{2} r P^{4}{\\left(r \\right)} \\left(\\frac{d}{d r} P{\\left(r \\right)}\\right)^{3} - \\mu \\psi^{4} r^{3} P^{4}{\\left(r \\right)} \\left(\\frac{d}{d r} P{\\left(r \\right)}\\right)^{3} - \\mu \\psi^{2} r P^{4}{\\left(r \\right)} \\left(\\frac{d}{d r} P{\\left(r \\right)}\\right)^{3}\\right) \\left(\\frac{d}{d r} P{\\left(r \\right)}\\right)^{2}}{k^{2} \\left(k^{2} \\lambda r^{2} \\left(\\frac{d}{d r} P{\\left(r \\right)}\\right)^{2} - 3 k^{2} \\lambda P^{2}{\\left(r \\right)} \\left(\\frac{d}{d r} P{\\left(r \\right)}\\right)^{2} + 3 k^{2} \\lambda P^{2}{\\left(r \\right)} + k^{2} \\mu r^{2} \\left(\\frac{d}{d r} P{\\left(r \\right)}\\right)^{2} - k^{2} \\mu P^{2}{\\left(r \\right)} \\left(\\frac{d}{d r} P{\\left(r \\right)}\\right)^{2} + 3 k^{2} \\mu P^{2}{\\left(r \\right)} + \\lambda \\psi^{2} r^{2} P^{2}{\\left(r \\right)} \\left(\\frac{d}{d r} P{\\left(r \\right)}\\right)^{2} + \\lambda P^{2}{\\left(r \\right)} \\left(\\frac{d}{d r} P{\\left(r \\right)}\\right)^{2} + \\mu \\psi^{2} r^{2} P^{2}{\\left(r \\right)} \\left(\\frac{d}{d r} P{\\left(r \\right)}\\right)^{2} + \\mu P^{2}{\\left(r \\right)} \\left(\\frac{d}{d r} P{\\left(r \\right)}\\right)^{2}\\right) P^{2}{\\left(r \\right)}}$"
      ],
      "text/plain": [
       "            ⎛                    3                          2                 \n",
       "            ⎜   4    3 ⎛d       ⎞     4    2      ⎛d       ⎞       4      2   \n",
       "  2         ⎜- k ⋅λ⋅r ⋅⎜──(P(r))⎟  - k ⋅λ⋅r ⋅P(r)⋅⎜──(P(r))⎟  + 3⋅k ⋅λ⋅r⋅P (r)\n",
       " d          ⎝          ⎝dr      ⎠                 ⎝dr      ⎠                  \n",
       "───(P(r)) = ──────────────────────────────────────────────────────────────────\n",
       "  2                                                                           \n",
       "dr                                                                            \n",
       "                                                                              \n",
       "                                                                              \n",
       "\n",
       "           3                                                  2               \n",
       " ⎛d       ⎞     4      2    d             4    3    ⎛d       ⎞     4    3     \n",
       "⋅⎜──(P(r))⎟  + k ⋅λ⋅r⋅P (r)⋅──(P(r)) - 3⋅k ⋅λ⋅P (r)⋅⎜──(P(r))⎟  + k ⋅λ⋅P (r) -\n",
       " ⎝dr      ⎠                 dr                      ⎝dr      ⎠                \n",
       "──────────────────────────────────────────────────────────────────────────────\n",
       "                                                                              \n",
       "                                                                              \n",
       "                                                                              \n",
       "                                                                              \n",
       "\n",
       "                   3                          2                          3    \n",
       "  4    3 ⎛d       ⎞     4    2      ⎛d       ⎞     4      2    ⎛d       ⎞     \n",
       " k ⋅μ⋅r ⋅⎜──(P(r))⎟  - k ⋅μ⋅r ⋅P(r)⋅⎜──(P(r))⎟  + k ⋅μ⋅r⋅P (r)⋅⎜──(P(r))⎟  + k\n",
       "         ⎝dr      ⎠                 ⎝dr      ⎠                 ⎝dr      ⎠     \n",
       "──────────────────────────────────────────────────────────────────────────────\n",
       "                                                                              \n",
       "                                                                              \n",
       "                                                                              \n",
       "                                                                              \n",
       "\n",
       "                                            2                                 \n",
       "4      2    d           4    3    ⎛d       ⎞     4    3         2    2  3  2  \n",
       " ⋅μ⋅r⋅P (r)⋅──(P(r)) - k ⋅μ⋅P (r)⋅⎜──(P(r))⎟  + k ⋅μ⋅P (r) - 2⋅k ⋅λ⋅ψ ⋅r ⋅P (r\n",
       "            dr                    ⎝dr      ⎠                                  \n",
       "──────────────────────────────────────────────────────────────────────────────\n",
       "                                        ⎛                  2                  \n",
       "                                      2 ⎜ 2    2 ⎛d       ⎞       2    2    ⎛d\n",
       "                                     k ⋅⎜k ⋅λ⋅r ⋅⎜──(P(r))⎟  - 3⋅k ⋅λ⋅P (r)⋅⎜─\n",
       "                                        ⎝        ⎝dr      ⎠                 ⎝d\n",
       "\n",
       "            3                              2                               3  \n",
       "  ⎛d       ⎞     2    2  2  3    ⎛d       ⎞       2    2    4    ⎛d       ⎞   \n",
       ")⋅⎜──(P(r))⎟  + k ⋅λ⋅ψ ⋅r ⋅P (r)⋅⎜──(P(r))⎟  + 3⋅k ⋅λ⋅ψ ⋅r⋅P (r)⋅⎜──(P(r))⎟  +\n",
       "  ⎝dr      ⎠                     ⎝dr      ⎠                      ⎝dr      ⎠   \n",
       "──────────────────────────────────────────────────────────────────────────────\n",
       "        2                                    2                        2       \n",
       "       ⎞       2    2       2    2 ⎛d       ⎞     2    2    ⎛d       ⎞       2\n",
       "─(P(r))⎟  + 3⋅k ⋅λ⋅P (r) + k ⋅μ⋅r ⋅⎜──(P(r))⎟  - k ⋅μ⋅P (r)⋅⎜──(P(r))⎟  + 3⋅k \n",
       "r      ⎠                           ⎝dr      ⎠               ⎝dr      ⎠        \n",
       "\n",
       "                                                   3                        2 \n",
       "  2    2    4    d           2      2    ⎛d       ⎞     2    3    ⎛d       ⎞  \n",
       " k ⋅λ⋅ψ ⋅r⋅P (r)⋅──(P(r)) - k ⋅λ⋅r⋅P (r)⋅⎜──(P(r))⎟  + k ⋅λ⋅P (r)⋅⎜──(P(r))⎟  \n",
       "                 dr                      ⎝dr      ⎠               ⎝dr      ⎠  \n",
       "──────────────────────────────────────────────────────────────────────────────\n",
       "                                   2                     2                    \n",
       "    2         2  2  2    ⎛d       ⎞       2    ⎛d       ⎞       2  2  2    ⎛d \n",
       "⋅μ⋅P (r) + λ⋅ψ ⋅r ⋅P (r)⋅⎜──(P(r))⎟  + λ⋅P (r)⋅⎜──(P(r))⎟  + μ⋅ψ ⋅r ⋅P (r)⋅⎜──\n",
       "                         ⎝dr      ⎠            ⎝dr      ⎠                  ⎝dr\n",
       "\n",
       "                               3                              2               \n",
       "     2    2  3  2    ⎛d       ⎞     2    2  2  3    ⎛d       ⎞     2    2    4\n",
       "- 2⋅k ⋅μ⋅ψ ⋅r ⋅P (r)⋅⎜──(P(r))⎟  + k ⋅μ⋅ψ ⋅r ⋅P (r)⋅⎜──(P(r))⎟  + k ⋅μ⋅ψ ⋅r⋅P \n",
       "                     ⎝dr      ⎠                     ⎝dr      ⎠                \n",
       "──────────────────────────────────────────────────────────────────────────────\n",
       "       2                     2⎞                                               \n",
       "      ⎞       2    ⎛d       ⎞ ⎟  2                                            \n",
       "(P(r))⎟  + μ⋅P (r)⋅⎜──(P(r))⎟ ⎟⋅P (r)                                         \n",
       "      ⎠            ⎝dr      ⎠ ⎠                                               \n",
       "\n",
       "              3                                                     3         \n",
       "    ⎛d       ⎞     2    2    4    d           2      2    ⎛d       ⎞     2    \n",
       "(r)⋅⎜──(P(r))⎟  + k ⋅μ⋅ψ ⋅r⋅P (r)⋅──(P(r)) - k ⋅μ⋅r⋅P (r)⋅⎜──(P(r))⎟  + k ⋅μ⋅P\n",
       "    ⎝dr      ⎠                    dr                      ⎝dr      ⎠          \n",
       "──────────────────────────────────────────────────────────────────────────────\n",
       "                                                                              \n",
       "                                                                              \n",
       "                                                                              \n",
       "                                                                              \n",
       "\n",
       "               2                           3                          3       \n",
       "3    ⎛d       ⎞       4  3  4    ⎛d       ⎞       2    4    ⎛d       ⎞       4\n",
       " (r)⋅⎜──(P(r))⎟  - λ⋅ψ ⋅r ⋅P (r)⋅⎜──(P(r))⎟  - λ⋅ψ ⋅r⋅P (r)⋅⎜──(P(r))⎟  - μ⋅ψ \n",
       "     ⎝dr      ⎠                  ⎝dr      ⎠                 ⎝dr      ⎠        \n",
       "──────────────────────────────────────────────────────────────────────────────\n",
       "                                                                              \n",
       "                                                                              \n",
       "                                                                              \n",
       "                                                                              \n",
       "\n",
       "                    3                          3⎞           2\n",
       "  3  4    ⎛d       ⎞       2    4    ⎛d       ⎞ ⎟ ⎛d       ⎞ \n",
       "⋅r ⋅P (r)⋅⎜──(P(r))⎟  - μ⋅ψ ⋅r⋅P (r)⋅⎜──(P(r))⎟ ⎟⋅⎜──(P(r))⎟ \n",
       "          ⎝dr      ⎠                 ⎝dr      ⎠ ⎠ ⎝dr      ⎠ \n",
       "─────────────────────────────────────────────────────────────\n",
       "                                                             \n",
       "                                                             \n",
       "                                                             \n",
       "                                                             "
      ]
     },
     "metadata": {},
     "output_type": "display_data"
    },
    {
     "data": {
      "text/latex": [
       "$\\displaystyle \\frac{k^{4} r^{4} \\left(\\lambda + \\mu\\right) \\left(\\frac{d}{d r} P{\\left(r \\right)}\\right)^{4} - 2 k^{4} r^{2} \\left(\\lambda + \\mu\\right) P^{2}{\\left(r \\right)} \\left(\\frac{d}{d r} P{\\left(r \\right)}\\right)^{2} - 2 k^{4} r^{2} \\cdot \\left(3 \\lambda + \\mu\\right) P^{2}{\\left(r \\right)} \\left(\\frac{d}{d r} P{\\left(r \\right)}\\right)^{4} - 3 k^{4} \\left(\\lambda + \\mu\\right) P^{4}{\\left(r \\right)} + 2 k^{4} \\cdot \\left(3 \\lambda + \\mu\\right) P^{4}{\\left(r \\right)} \\left(\\frac{d}{d r} P{\\left(r \\right)}\\right)^{2} + k^{4} \\cdot \\left(9 \\lambda + 5 \\mu\\right) P^{4}{\\left(r \\right)} \\left(\\frac{d}{d r} P{\\left(r \\right)}\\right)^{4} - 2 k^{2} \\psi^{2} r^{2} \\left(\\lambda + \\mu\\right) P^{4}{\\left(r \\right)} \\left(\\frac{d}{d r} P{\\left(r \\right)}\\right)^{2} - 2 k^{2} \\psi^{2} r^{2} \\cdot \\left(3 \\lambda + \\mu\\right) P^{4}{\\left(r \\right)} \\left(\\frac{d}{d r} P{\\left(r \\right)}\\right)^{4} + 2 k^{2} r^{2} \\left(\\lambda \\psi^{2} r^{2} + \\lambda + \\mu \\psi^{2} r^{2} + \\mu\\right) P^{2}{\\left(r \\right)} \\left(\\frac{d}{d r} P{\\left(r \\right)}\\right)^{4} - 2 k^{2} \\left(\\lambda + \\mu\\right) P^{4}{\\left(r \\right)} \\left(\\frac{d}{d r} P{\\left(r \\right)}\\right)^{2} - 2 k^{2} \\cdot \\left(3 \\lambda + \\mu\\right) P^{4}{\\left(r \\right)} \\left(\\frac{d}{d r} P{\\left(r \\right)}\\right)^{4} + \\psi^{2} r^{2} \\left(\\lambda \\psi^{2} r^{2} + 2 \\lambda + \\mu \\psi^{2} r^{2} + 2 \\mu\\right) P^{4}{\\left(r \\right)} \\left(\\frac{d}{d r} P{\\left(r \\right)}\\right)^{4} + \\left(\\lambda + \\mu\\right) P^{4}{\\left(r \\right)} \\left(\\frac{d}{d r} P{\\left(r \\right)}\\right)^{4}}{8 k^{3} r P^{3}{\\left(r \\right)} \\left(\\frac{d}{d r} P{\\left(r \\right)}\\right)^{4}} = 0$"
      ],
      "text/plain": [
       "                        4                                   2                 \n",
       " 4  4         ⎛d       ⎞       4  2          2    ⎛d       ⎞       4  2       \n",
       "k ⋅r ⋅(λ + μ)⋅⎜──(P(r))⎟  - 2⋅k ⋅r ⋅(λ + μ)⋅P (r)⋅⎜──(P(r))⎟  - 2⋅k ⋅r ⋅(3⋅λ +\n",
       "              ⎝dr      ⎠                          ⎝dr      ⎠                  \n",
       "──────────────────────────────────────────────────────────────────────────────\n",
       "                                                                              \n",
       "                                                                              \n",
       "                                                                              \n",
       "                                                                              \n",
       "\n",
       "                    4                                                       2 \n",
       "     2    ⎛d       ⎞       4          4         4            4    ⎛d       ⎞  \n",
       " μ)⋅P (r)⋅⎜──(P(r))⎟  - 3⋅k ⋅(λ + μ)⋅P (r) + 2⋅k ⋅(3⋅λ + μ)⋅P (r)⋅⎜──(P(r))⎟  \n",
       "          ⎝dr      ⎠                                              ⎝dr      ⎠  \n",
       "──────────────────────────────────────────────────────────────────────────────\n",
       "                                                                              \n",
       "                                                                              \n",
       "                                                                              \n",
       "                                                                              \n",
       "\n",
       "                                 4                                      2     \n",
       "   4              4    ⎛d       ⎞       2  2  2          4    ⎛d       ⎞      \n",
       "+ k ⋅(9⋅λ + 5⋅μ)⋅P (r)⋅⎜──(P(r))⎟  - 2⋅k ⋅ψ ⋅r ⋅(λ + μ)⋅P (r)⋅⎜──(P(r))⎟  - 2⋅\n",
       "                       ⎝dr      ⎠                             ⎝dr      ⎠      \n",
       "──────────────────────────────────────────────────────────────────────────────\n",
       "                                                                              \n",
       "                                                                           3  \n",
       "                                                                        8⋅k ⋅r\n",
       "                                                                              \n",
       "\n",
       "                                   4                                          \n",
       " 2  2  2            4    ⎛d       ⎞       2  2 ⎛   2  2          2  2    ⎞  2 \n",
       "k ⋅ψ ⋅r ⋅(3⋅λ + μ)⋅P (r)⋅⎜──(P(r))⎟  + 2⋅k ⋅r ⋅⎝λ⋅ψ ⋅r  + λ + μ⋅ψ ⋅r  + μ⎠⋅P (\n",
       "                         ⎝dr      ⎠                                           \n",
       "──────────────────────────────────────────────────────────────────────────────\n",
       "                 4                                                            \n",
       "  3    ⎛d       ⎞                                                             \n",
       "⋅P (r)⋅⎜──(P(r))⎟                                                             \n",
       "       ⎝dr      ⎠                                                             \n",
       "\n",
       "             4                                2                               \n",
       "   ⎛d       ⎞       2          4    ⎛d       ⎞       2            4    ⎛d     \n",
       "r)⋅⎜──(P(r))⎟  - 2⋅k ⋅(λ + μ)⋅P (r)⋅⎜──(P(r))⎟  - 2⋅k ⋅(3⋅λ + μ)⋅P (r)⋅⎜──(P(r\n",
       "   ⎝dr      ⎠                       ⎝dr      ⎠                         ⎝dr    \n",
       "──────────────────────────────────────────────────────────────────────────────\n",
       "                                                                              \n",
       "                                                                              \n",
       "                                                                              \n",
       "                                                                              \n",
       "\n",
       "   4                                                         4                \n",
       "  ⎞     2  2 ⎛   2  2            2  2      ⎞  4    ⎛d       ⎞             4   \n",
       "))⎟  + ψ ⋅r ⋅⎝λ⋅ψ ⋅r  + 2⋅λ + μ⋅ψ ⋅r  + 2⋅μ⎠⋅P (r)⋅⎜──(P(r))⎟  + (λ + μ)⋅P (r)\n",
       "  ⎠                                                ⎝dr      ⎠                 \n",
       "──────────────────────────────────────────────────────────────────────────────\n",
       "                                                                              \n",
       "                                                                              \n",
       "                                                                              \n",
       "                                                                              \n",
       "\n",
       "           4    \n",
       " ⎛d       ⎞     \n",
       "⋅⎜──(P(r))⎟     \n",
       " ⎝dr      ⎠     \n",
       "──────────── = 0\n",
       "                \n",
       "                \n",
       "                \n",
       "                "
      ]
     },
     "metadata": {},
     "output_type": "display_data"
    },
    {
     "name": "stdout",
     "output_type": "stream",
     "text": [
      "Время выполнения вычислений: 37.204 секунд.\n"
     ]
    }
   ],
   "source": [
    "print(\"Уравнение равновесия и граничное условие:\")\n",
    "display(sym.Eq(sym.diff(P, r, 2), sym.solve(divD[0], sym.diff(P, r, 2))[0]))\n",
    "display(sym.Eq(D[0, 0], 0))\n",
    "print(\"Время выполнения вычислений: \"+str(signoriniTime)+\" секунд.\")"
   ]
  },
  {
   "cell_type": "code",
   "execution_count": 36,
   "metadata": {
    "tags": []
   },
   "outputs": [
    {
     "name": "stdout",
     "output_type": "stream",
     "text": [
      "Рассматриваем материал Мурнагана.\n"
     ]
    },
    {
     "data": {
      "text/latex": [
       "$\\displaystyle W = \\frac{I_{1}^{3} \\left(\\frac{l}{6} + \\frac{m}{3}\\right)}{4} + \\frac{I_{1}^{2} \\left(- \\frac{3 l}{2} + \\frac{\\lambda}{2} - m + \\mu\\right)}{4} - \\frac{I_{1} I_{2} m}{4} + \\frac{I_{1} \\cdot \\left(\\frac{9 l}{2} - 3 \\lambda - 2 \\mu + \\frac{n}{2}\\right)}{4} + \\frac{I_{2} \\cdot \\left(3 m - 2 \\mu - \\frac{n}{2}\\right)}{4} + \\frac{n \\left(I_{3} - 1\\right)}{8}$"
      ],
      "text/plain": [
       "      3 ⎛l   m⎞     2 ⎛  3⋅l   λ        ⎞                ⎛9⋅l               n⎞\n",
       "    I₁ ⋅⎜─ + ─⎟   I₁ ⋅⎜- ─── + ─ - m + μ⎟             I₁⋅⎜─── - 3⋅λ - 2⋅μ + ─⎟\n",
       "        ⎝6   3⎠       ⎝   2    2        ⎠   I₁⋅I₂⋅m      ⎝ 2                2⎠\n",
       "W = ─────────── + ─────────────────────── - ─────── + ────────────────────────\n",
       "         4                   4                 4                 4            \n",
       "\n",
       "      ⎛            n⎞             \n",
       "   I₂⋅⎜3⋅m - 2⋅μ - ─⎟             \n",
       "      ⎝            2⎠   n⋅(I₃ - 1)\n",
       " + ────────────────── + ──────────\n",
       "           4                8     "
      ]
     },
     "metadata": {},
     "output_type": "display_data"
    }
   ],
   "source": [
    "print(\"Рассматриваем материал Мурнагана.\")\n",
    "W5 = MurnaghanMaterial()\n",
    "display(sym.Eq(sym.Symbol('W'), W5))"
   ]
  },
  {
   "cell_type": "code",
   "execution_count": 37,
   "metadata": {
    "tags": []
   },
   "outputs": [],
   "source": [
    "t = time.time()\n",
    "D = MySimplifyMatrix(2*dW(W5, G)*C)\n",
    "DA = D*A\n",
    "for m in range(3):\n",
    "    for n in range(3):\n",
    "        DA[m, n] = DA[m, n]/h[m]/h[n]\n",
    "divD = TensorSecondRankDiv(DA, q, gamma, h)\n",
    "divD = MySimplifyMatrix(divD*(A.T))\n",
    "murnaghanTime = round(time.time()-t, 3) #Округление до миллисекунд."
   ]
  },
  {
   "cell_type": "code",
   "execution_count": 38,
   "metadata": {
    "tags": []
   },
   "outputs": [
    {
     "name": "stdout",
     "output_type": "stream",
     "text": [
      "Уравнение равновесия и граничное условие:\n"
     ]
    },
    {
     "data": {
      "text/latex": [
       "$\\displaystyle \\frac{d^{2}}{d r^{2}} P{\\left(r \\right)} = \\frac{k^{4} l \\psi^{2} r^{6} P{\\left(r \\right)} - k^{4} l r^{5} \\frac{d}{d r} P{\\left(r \\right)} + k^{4} l r^{4} P{\\left(r \\right)} + 2 k^{4} m \\psi^{2} r^{6} P{\\left(r \\right)} + 2 k^{2} l \\psi^{4} r^{6} P^{3}{\\left(r \\right)} - 2 k^{2} l \\psi^{2} r^{6} P{\\left(r \\right)} \\left(\\frac{d}{d r} P{\\left(r \\right)}\\right)^{2} - 6 k^{2} l \\psi^{2} r^{6} P{\\left(r \\right)} - 2 k^{2} l \\psi^{2} r^{5} P^{2}{\\left(r \\right)} \\frac{d}{d r} P{\\left(r \\right)} + 4 k^{2} l \\psi^{2} r^{4} P^{3}{\\left(r \\right)} - 2 k^{2} l r^{5} \\left(\\frac{d}{d r} P{\\left(r \\right)}\\right)^{3} + 6 k^{2} l r^{5} \\frac{d}{d r} P{\\left(r \\right)} - 2 k^{2} l r^{4} P{\\left(r \\right)} \\left(\\frac{d}{d r} P{\\left(r \\right)}\\right)^{2} - 6 k^{2} l r^{4} P{\\left(r \\right)} + 2 k^{2} l r^{3} P^{2}{\\left(r \\right)} \\frac{d}{d r} P{\\left(r \\right)} + 2 k^{2} l r^{2} P^{3}{\\left(r \\right)} + 2 k^{2} \\lambda \\psi^{2} r^{6} P{\\left(r \\right)} - 2 k^{2} \\lambda r^{5} \\frac{d}{d r} P{\\left(r \\right)} + 2 k^{2} \\lambda r^{4} P{\\left(r \\right)} + 4 k^{2} m \\psi^{4} r^{6} P^{3}{\\left(r \\right)} - 4 k^{2} m \\psi^{2} r^{6} P{\\left(r \\right)} + 4 k^{2} m \\psi^{2} r^{4} P^{3}{\\left(r \\right)} - 2 k^{2} m r^{5} \\frac{d}{d r} P{\\left(r \\right)} + 2 k^{2} m r^{4} P{\\left(r \\right)} \\left(\\frac{d}{d r} P{\\left(r \\right)}\\right)^{2} + 2 k^{2} m r^{4} P{\\left(r \\right)} - 2 k^{2} m r^{3} P^{2}{\\left(r \\right)} \\frac{d}{d r} P{\\left(r \\right)} + 4 k^{2} \\mu \\psi^{2} r^{6} P{\\left(r \\right)} + k^{2} n r^{5} \\frac{d}{d r} P{\\left(r \\right)} - k^{2} n r^{4} P{\\left(r \\right)} \\left(\\frac{d}{d r} P{\\left(r \\right)}\\right)^{2} - k^{2} n r^{4} P{\\left(r \\right)} + k^{2} n r^{3} P^{2}{\\left(r \\right)} \\frac{d}{d r} P{\\left(r \\right)} + l \\psi^{6} r^{6} P^{5}{\\left(r \\right)} - 2 l \\psi^{4} r^{6} P^{3}{\\left(r \\right)} \\left(\\frac{d}{d r} P{\\left(r \\right)}\\right)^{2} - 6 l \\psi^{4} r^{6} P^{3}{\\left(r \\right)} - l \\psi^{4} r^{5} P^{4}{\\left(r \\right)} \\frac{d}{d r} P{\\left(r \\right)} + 3 l \\psi^{4} r^{4} P^{5}{\\left(r \\right)} - 3 l \\psi^{2} r^{6} P{\\left(r \\right)} \\left(\\frac{d}{d r} P{\\left(r \\right)}\\right)^{4} + 6 l \\psi^{2} r^{6} P{\\left(r \\right)} \\left(\\frac{d}{d r} P{\\left(r \\right)}\\right)^{2} + 9 l \\psi^{2} r^{6} P{\\left(r \\right)} - 2 l \\psi^{2} r^{5} P^{2}{\\left(r \\right)} \\left(\\frac{d}{d r} P{\\left(r \\right)}\\right)^{3} + 6 l \\psi^{2} r^{5} P^{2}{\\left(r \\right)} \\frac{d}{d r} P{\\left(r \\right)} - 4 l \\psi^{2} r^{4} P^{3}{\\left(r \\right)} \\left(\\frac{d}{d r} P{\\left(r \\right)}\\right)^{2} - 12 l \\psi^{2} r^{4} P^{3}{\\left(r \\right)} + 2 l \\psi^{2} r^{3} P^{4}{\\left(r \\right)} \\frac{d}{d r} P{\\left(r \\right)} + 3 l \\psi^{2} r^{2} P^{5}{\\left(r \\right)} - l r^{5} \\left(\\frac{d}{d r} P{\\left(r \\right)}\\right)^{5} + 6 l r^{5} \\left(\\frac{d}{d r} P{\\left(r \\right)}\\right)^{3} - 9 l r^{5} \\frac{d}{d r} P{\\left(r \\right)} - 3 l r^{4} P{\\left(r \\right)} \\left(\\frac{d}{d r} P{\\left(r \\right)}\\right)^{4} + 6 l r^{4} P{\\left(r \\right)} \\left(\\frac{d}{d r} P{\\left(r \\right)}\\right)^{2} + 9 l r^{4} P{\\left(r \\right)} + 2 l r^{3} P^{2}{\\left(r \\right)} \\left(\\frac{d}{d r} P{\\left(r \\right)}\\right)^{3} - 6 l r^{3} P^{2}{\\left(r \\right)} \\frac{d}{d r} P{\\left(r \\right)} - 2 l r^{2} P^{3}{\\left(r \\right)} \\left(\\frac{d}{d r} P{\\left(r \\right)}\\right)^{2} - 6 l r^{2} P^{3}{\\left(r \\right)} + 3 l r P^{4}{\\left(r \\right)} \\frac{d}{d r} P{\\left(r \\right)} + l P^{5}{\\left(r \\right)} + 2 \\lambda \\psi^{4} r^{6} P^{3}{\\left(r \\right)} - 2 \\lambda \\psi^{2} r^{6} P{\\left(r \\right)} \\left(\\frac{d}{d r} P{\\left(r \\right)}\\right)^{2} - 6 \\lambda \\psi^{2} r^{6} P{\\left(r \\right)} - 2 \\lambda \\psi^{2} r^{5} P^{2}{\\left(r \\right)} \\frac{d}{d r} P{\\left(r \\right)} + 4 \\lambda \\psi^{2} r^{4} P^{3}{\\left(r \\right)} - 2 \\lambda r^{5} \\left(\\frac{d}{d r} P{\\left(r \\right)}\\right)^{3} + 6 \\lambda r^{5} \\frac{d}{d r} P{\\left(r \\right)} - 2 \\lambda r^{4} P{\\left(r \\right)} \\left(\\frac{d}{d r} P{\\left(r \\right)}\\right)^{2} - 6 \\lambda r^{4} P{\\left(r \\right)} + 2 \\lambda r^{3} P^{2}{\\left(r \\right)} \\frac{d}{d r} P{\\left(r \\right)} + 2 \\lambda r^{2} P^{3}{\\left(r \\right)} + 2 m \\psi^{6} r^{6} P^{5}{\\left(r \\right)} - 4 m \\psi^{4} r^{6} P^{3}{\\left(r \\right)} + 6 m \\psi^{4} r^{4} P^{5}{\\left(r \\right)} - 2 m \\psi^{2} r^{6} P{\\left(r \\right)} \\left(\\frac{d}{d r} P{\\left(r \\right)}\\right)^{2} - 2 m \\psi^{2} r^{5} P^{2}{\\left(r \\right)} \\frac{d}{d r} P{\\left(r \\right)} - 8 m \\psi^{2} r^{4} P^{3}{\\left(r \\right)} + 6 m \\psi^{2} r^{2} P^{5}{\\left(r \\right)} - 2 m r^{5} \\left(\\frac{d}{d r} P{\\left(r \\right)}\\right)^{5} + 4 m r^{5} \\left(\\frac{d}{d r} P{\\left(r \\right)}\\right)^{3} - 2 m r^{4} P{\\left(r \\right)} \\left(\\frac{d}{d r} P{\\left(r \\right)}\\right)^{2} + 2 m r^{3} P^{2}{\\left(r \\right)} \\frac{d}{d r} P{\\left(r \\right)} - 4 m r^{2} P^{3}{\\left(r \\right)} + 2 m P^{5}{\\left(r \\right)} + 4 \\mu \\psi^{4} r^{6} P^{3}{\\left(r \\right)} - 4 \\mu \\psi^{2} r^{6} P{\\left(r \\right)} + 8 \\mu \\psi^{2} r^{4} P^{3}{\\left(r \\right)} - 4 \\mu r^{5} \\left(\\frac{d}{d r} P{\\left(r \\right)}\\right)^{3} + 4 \\mu r^{5} \\frac{d}{d r} P{\\left(r \\right)} - 4 \\mu r^{4} P{\\left(r \\right)} + 4 \\mu r^{2} P^{3}{\\left(r \\right)} + n \\psi^{2} r^{6} P{\\left(r \\right)} \\left(\\frac{d}{d r} P{\\left(r \\right)}\\right)^{2} + n \\psi^{2} r^{6} P{\\left(r \\right)} + n \\psi^{2} r^{5} P^{2}{\\left(r \\right)} \\frac{d}{d r} P{\\left(r \\right)} - n r^{5} \\frac{d}{d r} P{\\left(r \\right)} + n r^{4} P{\\left(r \\right)} \\left(\\frac{d}{d r} P{\\left(r \\right)}\\right)^{2} + n r^{4} P{\\left(r \\right)} - n r^{3} P^{2}{\\left(r \\right)} \\frac{d}{d r} P{\\left(r \\right)}}{r^{2} \\left(k^{4} l r^{4} + 2 k^{2} l \\psi^{2} r^{4} P^{2}{\\left(r \\right)} + 6 k^{2} l r^{4} \\left(\\frac{d}{d r} P{\\left(r \\right)}\\right)^{2} - 6 k^{2} l r^{4} + 2 k^{2} l r^{2} P^{2}{\\left(r \\right)} + 2 k^{2} \\lambda r^{4} + 2 k^{2} m r^{4} - 2 k^{2} m r^{2} P^{2}{\\left(r \\right)} - k^{2} n r^{4} + k^{2} n r^{2} P^{2}{\\left(r \\right)} + l \\psi^{4} r^{4} P^{4}{\\left(r \\right)} + 6 l \\psi^{2} r^{4} P^{2}{\\left(r \\right)} \\left(\\frac{d}{d r} P{\\left(r \\right)}\\right)^{2} - 6 l \\psi^{2} r^{4} P^{2}{\\left(r \\right)} + 2 l \\psi^{2} r^{2} P^{4}{\\left(r \\right)} + 5 l r^{4} \\left(\\frac{d}{d r} P{\\left(r \\right)}\\right)^{4} - 18 l r^{4} \\left(\\frac{d}{d r} P{\\left(r \\right)}\\right)^{2} + 9 l r^{4} + 6 l r^{2} P^{2}{\\left(r \\right)} \\left(\\frac{d}{d r} P{\\left(r \\right)}\\right)^{2} - 6 l r^{2} P^{2}{\\left(r \\right)} + l P^{4}{\\left(r \\right)} + 2 \\lambda \\psi^{2} r^{4} P^{2}{\\left(r \\right)} + 6 \\lambda r^{4} \\left(\\frac{d}{d r} P{\\left(r \\right)}\\right)^{2} - 6 \\lambda r^{4} + 2 \\lambda r^{2} P^{2}{\\left(r \\right)} + 2 m \\psi^{2} r^{4} P^{2}{\\left(r \\right)} + 10 m r^{4} \\left(\\frac{d}{d r} P{\\left(r \\right)}\\right)^{4} - 12 m r^{4} \\left(\\frac{d}{d r} P{\\left(r \\right)}\\right)^{2} + 2 m r^{2} P^{2}{\\left(r \\right)} + 12 \\mu r^{4} \\left(\\frac{d}{d r} P{\\left(r \\right)}\\right)^{2} - 4 \\mu r^{4} - n \\psi^{2} r^{4} P^{2}{\\left(r \\right)} + n r^{4} - n r^{2} P^{2}{\\left(r \\right)}\\right)}$"
      ],
      "text/plain": [
       "                                                                              \n",
       "             4    2  6         4    5 d           4    4           4    2  6  \n",
       "  2         k ⋅l⋅ψ ⋅r ⋅P(r) - k ⋅l⋅r ⋅──(P(r)) + k ⋅l⋅r ⋅P(r) + 2⋅k ⋅m⋅ψ ⋅r ⋅P\n",
       " d                                    dr                                      \n",
       "───(P(r)) = ──────────────────────────────────────────────────────────────────\n",
       "  2                                                                           \n",
       "dr                                                                            \n",
       "                                                                              \n",
       "                                                                              \n",
       "\n",
       "                                                       2                      \n",
       "         2    4  6  3         2    2  6      ⎛d       ⎞       2    2  6       \n",
       "(r) + 2⋅k ⋅l⋅ψ ⋅r ⋅P (r) - 2⋅k ⋅l⋅ψ ⋅r ⋅P(r)⋅⎜──(P(r))⎟  - 6⋅k ⋅l⋅ψ ⋅r ⋅P(r) -\n",
       "                                             ⎝dr      ⎠                       \n",
       "──────────────────────────────────────────────────────────────────────────────\n",
       "                                                                              \n",
       "                                                                              \n",
       "                                                                              \n",
       "                                                                              \n",
       "\n",
       "                                                                        3     \n",
       "    2    2  5  2    d             2    2  4  3         2    5 ⎛d       ⎞      \n",
       " 2⋅k ⋅l⋅ψ ⋅r ⋅P (r)⋅──(P(r)) + 4⋅k ⋅l⋅ψ ⋅r ⋅P (r) - 2⋅k ⋅l⋅r ⋅⎜──(P(r))⎟  + 6⋅\n",
       "                    dr                                        ⎝dr      ⎠      \n",
       "──────────────────────────────────────────────────────────────────────────────\n",
       "                                                                              \n",
       "                                                                              \n",
       "                                                                              \n",
       "                                                                              \n",
       "\n",
       "                                            2                                 \n",
       " 2    5 d             2    4      ⎛d       ⎞       2    4           2    3  2 \n",
       "k ⋅l⋅r ⋅──(P(r)) - 2⋅k ⋅l⋅r ⋅P(r)⋅⎜──(P(r))⎟  - 6⋅k ⋅l⋅r ⋅P(r) + 2⋅k ⋅l⋅r ⋅P (\n",
       "        dr                        ⎝dr      ⎠                                  \n",
       "──────────────────────────────────────────────────────────────────────────────\n",
       "                                                                              \n",
       "                                                                              \n",
       "                                                                              \n",
       "                                                                              \n",
       "\n",
       "                                                                              \n",
       "   d             2    2  3         2    2  6           2    5 d             2 \n",
       "r)⋅──(P(r)) + 2⋅k ⋅l⋅r ⋅P (r) + 2⋅k ⋅λ⋅ψ ⋅r ⋅P(r) - 2⋅k ⋅λ⋅r ⋅──(P(r)) + 2⋅k ⋅\n",
       "   dr                                                         dr              \n",
       "──────────────────────────────────────────────────────────────────────────────\n",
       "                                                                              \n",
       "                                                                              \n",
       "                                                                              \n",
       "                                                                              \n",
       "\n",
       "                                                                              \n",
       "   4           2    4  6  3         2    2  6           2    2  4  3         2\n",
       "λ⋅r ⋅P(r) + 4⋅k ⋅m⋅ψ ⋅r ⋅P (r) - 4⋅k ⋅m⋅ψ ⋅r ⋅P(r) + 4⋅k ⋅m⋅ψ ⋅r ⋅P (r) - 2⋅k \n",
       "                                                                              \n",
       "──────────────────────────────────────────────────────────────────────────────\n",
       "                                                                              \n",
       "                                                                              \n",
       "                                                                              \n",
       "                                                                              \n",
       "\n",
       "                                          2                                   \n",
       "    5 d             2    4      ⎛d       ⎞       2    4           2    3  2   \n",
       "⋅m⋅r ⋅──(P(r)) + 2⋅k ⋅m⋅r ⋅P(r)⋅⎜──(P(r))⎟  + 2⋅k ⋅m⋅r ⋅P(r) - 2⋅k ⋅m⋅r ⋅P (r)\n",
       "      dr                        ⎝dr      ⎠                                    \n",
       "──────────────────────────────────────────────────────────────────────────────\n",
       "                                                                              \n",
       "                                                                              \n",
       "                                                                              \n",
       "                                                                              \n",
       "\n",
       "                                                                          2   \n",
       " d             2    2  6         2    5 d           2    4      ⎛d       ⎞    \n",
       "⋅──(P(r)) + 4⋅k ⋅μ⋅ψ ⋅r ⋅P(r) + k ⋅n⋅r ⋅──(P(r)) - k ⋅n⋅r ⋅P(r)⋅⎜──(P(r))⎟  - \n",
       " dr                                     dr                      ⎝dr      ⎠    \n",
       "──────────────────────────────────────────────────────────────────────────────\n",
       "                                                                              \n",
       "                                                                              \n",
       "                                                                              \n",
       "                                                                              \n",
       "\n",
       "                                                                              \n",
       " 2    4         2    3  2    d             6  6  5           4  6  3    ⎛d    \n",
       "k ⋅n⋅r ⋅P(r) + k ⋅n⋅r ⋅P (r)⋅──(P(r)) + l⋅ψ ⋅r ⋅P (r) - 2⋅l⋅ψ ⋅r ⋅P (r)⋅⎜──(P(\n",
       "                             dr                                         ⎝dr   \n",
       "──────────────────────────────────────────────────────────────────────────────\n",
       "                                                                              \n",
       "                                                                              \n",
       "                                                                              \n",
       "                                                                              \n",
       "\n",
       "    2                                                                         \n",
       "   ⎞         4  6  3         4  5  4    d               4  4  5           2  6\n",
       "r))⎟  - 6⋅l⋅ψ ⋅r ⋅P (r) - l⋅ψ ⋅r ⋅P (r)⋅──(P(r)) + 3⋅l⋅ψ ⋅r ⋅P (r) - 3⋅l⋅ψ ⋅r \n",
       "   ⎠                                    dr                                    \n",
       "──────────────────────────────────────────────────────────────────────────────\n",
       "                                ⎛                                             \n",
       "                              2 ⎜ 4    4      2    2  4  2         2    4 ⎛d  \n",
       "                             r ⋅⎜k ⋅l⋅r  + 2⋅k ⋅l⋅ψ ⋅r ⋅P (r) + 6⋅k ⋅l⋅r ⋅⎜──(\n",
       "                                ⎝                                         ⎝dr \n",
       "\n",
       "                4                            2                                \n",
       "      ⎛d       ⎞         2  6      ⎛d       ⎞         2  6             2  5  2\n",
       "⋅P(r)⋅⎜──(P(r))⎟  + 6⋅l⋅ψ ⋅r ⋅P(r)⋅⎜──(P(r))⎟  + 9⋅l⋅ψ ⋅r ⋅P(r) - 2⋅l⋅ψ ⋅r ⋅P \n",
       "      ⎝dr      ⎠                   ⎝dr      ⎠                                 \n",
       "──────────────────────────────────────────────────────────────────────────────\n",
       "      2                                                                       \n",
       "     ⎞       2    4      2    2  2         2    4      2    4      2    2  2  \n",
       "P(r))⎟  - 6⋅k ⋅l⋅r  + 2⋅k ⋅l⋅r ⋅P (r) + 2⋅k ⋅λ⋅r  + 2⋅k ⋅m⋅r  - 2⋅k ⋅m⋅r ⋅P (r\n",
       "     ⎠                                                                        \n",
       "\n",
       "              3                                                        2      \n",
       "    ⎛d       ⎞         2  5  2    d               2  4  3    ⎛d       ⎞       \n",
       "(r)⋅⎜──(P(r))⎟  + 6⋅l⋅ψ ⋅r ⋅P (r)⋅──(P(r)) - 4⋅l⋅ψ ⋅r ⋅P (r)⋅⎜──(P(r))⎟  - 12⋅\n",
       "    ⎝dr      ⎠                    dr                         ⎝dr      ⎠       \n",
       "──────────────────────────────────────────────────────────────────────────────\n",
       "                                                                        2     \n",
       "     2    4    2    2  2         4  4  4           2  4  2    ⎛d       ⎞      \n",
       ") - k ⋅n⋅r  + k ⋅n⋅r ⋅P (r) + l⋅ψ ⋅r ⋅P (r) + 6⋅l⋅ψ ⋅r ⋅P (r)⋅⎜──(P(r))⎟  - 6⋅\n",
       "                                                              ⎝dr      ⎠      \n",
       "\n",
       "                                                                            5 \n",
       "   2  4  3           2  3  4    d               2  2  5         5 ⎛d       ⎞  \n",
       "l⋅ψ ⋅r ⋅P (r) + 2⋅l⋅ψ ⋅r ⋅P (r)⋅──(P(r)) + 3⋅l⋅ψ ⋅r ⋅P (r) - l⋅r ⋅⎜──(P(r))⎟  \n",
       "                                dr                                ⎝dr      ⎠  \n",
       "──────────────────────────────────────────────────────────────────────────────\n",
       "                                                   4                     2    \n",
       "   2  4  2           2  2  4           4 ⎛d       ⎞          4 ⎛d       ⎞     \n",
       "l⋅ψ ⋅r ⋅P (r) + 2⋅l⋅ψ ⋅r ⋅P (r) + 5⋅l⋅r ⋅⎜──(P(r))⎟  - 18⋅l⋅r ⋅⎜──(P(r))⎟  + 9\n",
       "                                         ⎝dr      ⎠            ⎝dr      ⎠     \n",
       "\n",
       "                   3                                           4              \n",
       "       5 ⎛d       ⎞         5 d               4      ⎛d       ⎞         4     \n",
       "+ 6⋅l⋅r ⋅⎜──(P(r))⎟  - 9⋅l⋅r ⋅──(P(r)) - 3⋅l⋅r ⋅P(r)⋅⎜──(P(r))⎟  + 6⋅l⋅r ⋅P(r)\n",
       "         ⎝dr      ⎠           dr                     ⎝dr      ⎠               \n",
       "──────────────────────────────────────────────────────────────────────────────\n",
       "                               2                                              \n",
       "    4        2  2    ⎛d       ⎞         2  2         4           2  4  2      \n",
       "⋅l⋅r  + 6⋅l⋅r ⋅P (r)⋅⎜──(P(r))⎟  - 6⋅l⋅r ⋅P (r) + l⋅P (r) + 2⋅λ⋅ψ ⋅r ⋅P (r) + \n",
       "                     ⎝dr      ⎠                                               \n",
       "\n",
       "           2                                        3                         \n",
       " ⎛d       ⎞         4             3  2    ⎛d       ⎞         3  2    d        \n",
       "⋅⎜──(P(r))⎟  + 9⋅l⋅r ⋅P(r) + 2⋅l⋅r ⋅P (r)⋅⎜──(P(r))⎟  - 6⋅l⋅r ⋅P (r)⋅──(P(r)) \n",
       " ⎝dr      ⎠                               ⎝dr      ⎠                 dr       \n",
       "──────────────────────────────────────────────────────────────────────────────\n",
       "                 2                                                            \n",
       "     4 ⎛d       ⎞         4        2  2           2  4  2            4 ⎛d     \n",
       "6⋅λ⋅r ⋅⎜──(P(r))⎟  - 6⋅λ⋅r  + 2⋅λ⋅r ⋅P (r) + 2⋅m⋅ψ ⋅r ⋅P (r) + 10⋅m⋅r ⋅⎜──(P(r\n",
       "       ⎝dr      ⎠                                                      ⎝dr    \n",
       "\n",
       "                         2                                                    \n",
       "       2  3    ⎛d       ⎞         2  3             4    d             5       \n",
       "- 2⋅l⋅r ⋅P (r)⋅⎜──(P(r))⎟  - 6⋅l⋅r ⋅P (r) + 3⋅l⋅r⋅P (r)⋅──(P(r)) + l⋅P (r) + 2\n",
       "               ⎝dr      ⎠                               dr                    \n",
       "──────────────────────────────────────────────────────────────────────────────\n",
       "   4                     2                                    2               \n",
       "  ⎞          4 ⎛d       ⎞         2  2            4 ⎛d       ⎞         4      \n",
       "))⎟  - 12⋅m⋅r ⋅⎜──(P(r))⎟  + 2⋅m⋅r ⋅P (r) + 12⋅μ⋅r ⋅⎜──(P(r))⎟  - 4⋅μ⋅r  - n⋅ψ\n",
       "  ⎠            ⎝dr      ⎠                           ⎝dr      ⎠                \n",
       "\n",
       "                                          2                                   \n",
       "    4  6  3           2  6      ⎛d       ⎞         2  6             2  5  2   \n",
       "⋅λ⋅ψ ⋅r ⋅P (r) - 2⋅λ⋅ψ ⋅r ⋅P(r)⋅⎜──(P(r))⎟  - 6⋅λ⋅ψ ⋅r ⋅P(r) - 2⋅λ⋅ψ ⋅r ⋅P (r)\n",
       "                                ⎝dr      ⎠                                    \n",
       "──────────────────────────────────────────────────────────────────────────────\n",
       "                              ⎞                                               \n",
       "2  4  2         4      2  2   ⎟                                               \n",
       " ⋅r ⋅P (r) + n⋅r  - n⋅r ⋅P (r)⎟                                               \n",
       "                              ⎠                                               \n",
       "\n",
       "                                               3                              \n",
       " d               2  4  3           5 ⎛d       ⎞         5 d               4   \n",
       "⋅──(P(r)) + 4⋅λ⋅ψ ⋅r ⋅P (r) - 2⋅λ⋅r ⋅⎜──(P(r))⎟  + 6⋅λ⋅r ⋅──(P(r)) - 2⋅λ⋅r ⋅P(\n",
       " dr                                  ⎝dr      ⎠           dr                  \n",
       "──────────────────────────────────────────────────────────────────────────────\n",
       "                                                                              \n",
       "                                                                              \n",
       "                                                                              \n",
       "                                                                              \n",
       "\n",
       "             2                                                                \n",
       "   ⎛d       ⎞         4             3  2    d               2  3           6  \n",
       "r)⋅⎜──(P(r))⎟  - 6⋅λ⋅r ⋅P(r) + 2⋅λ⋅r ⋅P (r)⋅──(P(r)) + 2⋅λ⋅r ⋅P (r) + 2⋅m⋅ψ ⋅r\n",
       "   ⎝dr      ⎠                               dr                                \n",
       "──────────────────────────────────────────────────────────────────────────────\n",
       "                                                                              \n",
       "                                                                              \n",
       "                                                                              \n",
       "                                                                              \n",
       "\n",
       "                                                                       2      \n",
       "6  5           4  6  3           4  4  5           2  6      ⎛d       ⎞       \n",
       " ⋅P (r) - 4⋅m⋅ψ ⋅r ⋅P (r) + 6⋅m⋅ψ ⋅r ⋅P (r) - 2⋅m⋅ψ ⋅r ⋅P(r)⋅⎜──(P(r))⎟  - 2⋅m\n",
       "                                                             ⎝dr      ⎠       \n",
       "──────────────────────────────────────────────────────────────────────────────\n",
       "                                                                              \n",
       "                                                                              \n",
       "                                                                              \n",
       "                                                                              \n",
       "\n",
       "                                                                             5\n",
       "  2  5  2    d               2  4  3           2  2  5           5 ⎛d       ⎞ \n",
       "⋅ψ ⋅r ⋅P (r)⋅──(P(r)) - 8⋅m⋅ψ ⋅r ⋅P (r) + 6⋅m⋅ψ ⋅r ⋅P (r) - 2⋅m⋅r ⋅⎜──(P(r))⎟ \n",
       "             dr                                                    ⎝dr      ⎠ \n",
       "──────────────────────────────────────────────────────────────────────────────\n",
       "                                                                              \n",
       "                                                                              \n",
       "                                                                              \n",
       "                                                                              \n",
       "\n",
       "                    3                         2                               \n",
       "        5 ⎛d       ⎞         4      ⎛d       ⎞         3  2    d              \n",
       " + 4⋅m⋅r ⋅⎜──(P(r))⎟  - 2⋅m⋅r ⋅P(r)⋅⎜──(P(r))⎟  + 2⋅m⋅r ⋅P (r)⋅──(P(r)) - 4⋅m⋅\n",
       "          ⎝dr      ⎠                ⎝dr      ⎠                 dr             \n",
       "──────────────────────────────────────────────────────────────────────────────\n",
       "                                                                              \n",
       "                                                                              \n",
       "                                                                              \n",
       "                                                                              \n",
       "\n",
       "                                                                              \n",
       " 2  3           5           4  6  3           2  6             2  4  3        \n",
       "r ⋅P (r) + 2⋅m⋅P (r) + 4⋅μ⋅ψ ⋅r ⋅P (r) - 4⋅μ⋅ψ ⋅r ⋅P(r) + 8⋅μ⋅ψ ⋅r ⋅P (r) - 4⋅\n",
       "                                                                              \n",
       "──────────────────────────────────────────────────────────────────────────────\n",
       "                                                                              \n",
       "                                                                              \n",
       "                                                                              \n",
       "                                                                              \n",
       "\n",
       "               3                                                              \n",
       "   5 ⎛d       ⎞         5 d               4             2  3         2  6     \n",
       "μ⋅r ⋅⎜──(P(r))⎟  + 4⋅μ⋅r ⋅──(P(r)) - 4⋅μ⋅r ⋅P(r) + 4⋅μ⋅r ⋅P (r) + n⋅ψ ⋅r ⋅P(r)\n",
       "     ⎝dr      ⎠           dr                                                  \n",
       "──────────────────────────────────────────────────────────────────────────────\n",
       "                                                                              \n",
       "                                                                              \n",
       "                                                                              \n",
       "                                                                              \n",
       "\n",
       "           2                                                                  \n",
       " ⎛d       ⎞       2  6           2  5  2    d             5 d             4   \n",
       "⋅⎜──(P(r))⎟  + n⋅ψ ⋅r ⋅P(r) + n⋅ψ ⋅r ⋅P (r)⋅──(P(r)) - n⋅r ⋅──(P(r)) + n⋅r ⋅P(\n",
       " ⎝dr      ⎠                                 dr              dr                \n",
       "──────────────────────────────────────────────────────────────────────────────\n",
       "                                                                              \n",
       "                                                                              \n",
       "                                                                              \n",
       "                                                                              \n",
       "\n",
       "             2                                  \n",
       "   ⎛d       ⎞       4           3  2    d       \n",
       "r)⋅⎜──(P(r))⎟  + n⋅r ⋅P(r) - n⋅r ⋅P (r)⋅──(P(r))\n",
       "   ⎝dr      ⎠                           dr      \n",
       "────────────────────────────────────────────────\n",
       "                                                \n",
       "                                                \n",
       "                                                \n",
       "                                                "
      ]
     },
     "metadata": {},
     "output_type": "display_data"
    },
    {
     "data": {
      "text/latex": [
       "$\\displaystyle \\frac{\\left(m \\left(r^{4} \\left(\\frac{d}{d r} P{\\left(r \\right)}\\right)^{4} + r^{2} \\left(\\psi^{2} P^{4}{\\left(r \\right)} + r^{2} \\left(k^{2} + \\psi^{2} P^{2}{\\left(r \\right)}\\right)^{2}\\right) + \\left(\\psi^{2} r^{2} + 1\\right) P^{4}{\\left(r \\right)} - \\left(r^{2} \\left(k^{2} + \\psi^{2} P^{2}{\\left(r \\right)} + \\left(\\frac{d}{d r} P{\\left(r \\right)}\\right)^{2}\\right) + P^{2}{\\left(r \\right)}\\right)^{2}\\right) + r^{4} \\cdot \\left(9 l - 6 \\lambda - 4 \\mu + n\\right) + r^{2} \\left(k^{2} n P^{2}{\\left(r \\right)} - 2 \\left(r^{2} \\left(k^{2} + \\psi^{2} P^{2}{\\left(r \\right)} + \\left(\\frac{d}{d r} P{\\left(r \\right)}\\right)^{2}\\right) + P^{2}{\\left(r \\right)}\\right) \\left(3 l - \\lambda + 2 m - 2 \\mu\\right)\\right) + \\left(l + 2 m\\right) \\left(r^{2} \\left(k^{2} + \\psi^{2} P^{2}{\\left(r \\right)} + \\left(\\frac{d}{d r} P{\\left(r \\right)}\\right)^{2}\\right) + P^{2}{\\left(r \\right)}\\right)^{2} - \\left(2 m \\left(r^{2} \\left(k^{2} + \\psi^{2} P^{2}{\\left(r \\right)} + \\left(\\frac{d}{d r} P{\\left(r \\right)}\\right)^{2}\\right) + P^{2}{\\left(r \\right)}\\right) + r^{2} \\left(- 6 m + 4 \\mu + n\\right)\\right) \\left(r^{2} \\left(k^{2} + \\psi^{2} P^{2}{\\left(r \\right)}\\right) + P^{2}{\\left(r \\right)}\\right)\\right) \\frac{d}{d r} P{\\left(r \\right)}}{4 r^{4}} = 0$"
      ],
      "text/plain": [
       "⎛  ⎛                                                                          \n",
       "⎜  ⎜             4      ⎛                             2⎞                      \n",
       "⎜  ⎜ 4 ⎛d       ⎞     2 ⎜ 2  4       2 ⎛ 2    2  2   ⎞ ⎟   ⎛ 2  2    ⎞  4     \n",
       "⎜m⋅⎜r ⋅⎜──(P(r))⎟  + r ⋅⎝ψ ⋅P (r) + r ⋅⎝k  + ψ ⋅P (r)⎠ ⎠ + ⎝ψ ⋅r  + 1⎠⋅P (r) -\n",
       "⎝  ⎝   ⎝dr      ⎠                                                             \n",
       "──────────────────────────────────────────────────────────────────────────────\n",
       "                                                                              \n",
       "                                                                              \n",
       "\n",
       "                                           2⎞                                 \n",
       " ⎛   ⎛                          2⎞        ⎞ ⎟                                 \n",
       " ⎜ 2 ⎜ 2    2  2      ⎛d       ⎞ ⎟    2   ⎟ ⎟    4                          2 \n",
       " ⎜r ⋅⎜k  + ψ ⋅P (r) + ⎜──(P(r))⎟ ⎟ + P (r)⎟ ⎟ + r ⋅(9⋅l - 6⋅λ - 4⋅μ + n) + r ⋅\n",
       " ⎝   ⎝                ⎝dr      ⎠ ⎠        ⎠ ⎠                                 \n",
       "──────────────────────────────────────────────────────────────────────────────\n",
       "                                                                              \n",
       "                                                                              \n",
       "\n",
       "                                                                              \n",
       "⎛               ⎛   ⎛                          2⎞        ⎞                    \n",
       "⎜ 2    2        ⎜ 2 ⎜ 2    2  2      ⎛d       ⎞ ⎟    2   ⎟                    \n",
       "⎜k ⋅n⋅P (r) - 2⋅⎜r ⋅⎜k  + ψ ⋅P (r) + ⎜──(P(r))⎟ ⎟ + P (r)⎟⋅(3⋅l - λ + 2⋅m - 2⋅\n",
       "⎝               ⎝   ⎝                ⎝dr      ⎠ ⎠        ⎠                    \n",
       "──────────────────────────────────────────────────────────────────────────────\n",
       "                                                4                             \n",
       "                                             4⋅r                              \n",
       "\n",
       "                                                          2                   \n",
       "  ⎞             ⎛   ⎛                          2⎞        ⎞    ⎛    ⎛   ⎛      \n",
       "  ⎟             ⎜ 2 ⎜ 2    2  2      ⎛d       ⎞ ⎟    2   ⎟    ⎜    ⎜ 2 ⎜ 2    \n",
       "μ)⎟ + (l + 2⋅m)⋅⎜r ⋅⎜k  + ψ ⋅P (r) + ⎜──(P(r))⎟ ⎟ + P (r)⎟  - ⎜2⋅m⋅⎜r ⋅⎜k  + ψ\n",
       "  ⎠             ⎝   ⎝                ⎝dr      ⎠ ⎠        ⎠    ⎝    ⎝   ⎝      \n",
       "──────────────────────────────────────────────────────────────────────────────\n",
       "                                                                              \n",
       "                                                                              \n",
       "\n",
       "                                                                              \n",
       "                    2⎞        ⎞                      ⎞                        \n",
       "2  2      ⎛d       ⎞ ⎟    2   ⎟    2                 ⎟ ⎛ 2 ⎛ 2    2  2   ⎞    \n",
       " ⋅P (r) + ⎜──(P(r))⎟ ⎟ + P (r)⎟ + r ⋅(-6⋅m + 4⋅μ + n)⎟⋅⎝r ⋅⎝k  + ψ ⋅P (r)⎠ + P\n",
       "          ⎝dr      ⎠ ⎠        ⎠                      ⎠                        \n",
       "──────────────────────────────────────────────────────────────────────────────\n",
       "                                                                              \n",
       "                                                                              \n",
       "\n",
       "     ⎞             \n",
       "     ⎟             \n",
       "2   ⎞⎟ d           \n",
       " (r)⎠⎟⋅──(P(r))    \n",
       "     ⎠ dr          \n",
       "─────────────── = 0\n",
       "                   \n",
       "                   "
      ]
     },
     "metadata": {},
     "output_type": "display_data"
    },
    {
     "name": "stdout",
     "output_type": "stream",
     "text": [
      "Время выполнения вычислений: 35.623 секунд.\n"
     ]
    }
   ],
   "source": [
    "print(\"Уравнение равновесия и граничное условие:\")\n",
    "display(sym.Eq(sym.diff(P, r, 2), sym.solve(divD[0], sym.diff(P, r, 2))[0]))\n",
    "display(sym.Eq(D[0, 0], 0))\n",
    "print(\"Время выполнения вычислений: \"+str(murnaghanTime)+\" секунд.\")"
   ]
  },
  {
   "cell_type": "code",
   "execution_count": 39,
   "metadata": {
    "tags": []
   },
   "outputs": [
    {
     "data": {
      "text/html": [
       "<div>\n",
       "<style scoped>\n",
       "    .dataframe tbody tr th:only-of-type {\n",
       "        vertical-align: middle;\n",
       "    }\n",
       "\n",
       "    .dataframe tbody tr th {\n",
       "        vertical-align: top;\n",
       "    }\n",
       "\n",
       "    .dataframe thead th {\n",
       "        text-align: right;\n",
       "    }\n",
       "</style>\n",
       "<table border=\"1\" class=\"dataframe\">\n",
       "  <thead>\n",
       "    <tr style=\"text-align: right;\">\n",
       "      <th></th>\n",
       "      <th>Функция энергии</th>\n",
       "      <th>Время, c</th>\n",
       "    </tr>\n",
       "  </thead>\n",
       "  <tbody>\n",
       "    <tr>\n",
       "      <th>0</th>\n",
       "      <td>Материал Блейтца и Ко (упрощённая модель)</td>\n",
       "      <td>5.620</td>\n",
       "    </tr>\n",
       "    <tr>\n",
       "      <th>1</th>\n",
       "      <td>Материал Блейтца и Ко (гипотетический вариант)</td>\n",
       "      <td>8.881</td>\n",
       "    </tr>\n",
       "    <tr>\n",
       "      <th>2</th>\n",
       "      <td>Материал Блейтца и Ко (полная трёхконстантная ...</td>\n",
       "      <td>74.709</td>\n",
       "    </tr>\n",
       "    <tr>\n",
       "      <th>3</th>\n",
       "      <td>Тело Синьорини</td>\n",
       "      <td>37.204</td>\n",
       "    </tr>\n",
       "    <tr>\n",
       "      <th>4</th>\n",
       "      <td>Материал Мурнагана</td>\n",
       "      <td>35.623</td>\n",
       "    </tr>\n",
       "  </tbody>\n",
       "</table>\n",
       "</div>"
      ],
      "text/plain": [
       "                                     Функция энергии  Время, c\n",
       "0          Материал Блейтца и Ко (упрощённая модель)     5.620\n",
       "1     Материал Блейтца и Ко (гипотетический вариант)     8.881\n",
       "2  Материал Блейтца и Ко (полная трёхконстантная ...    74.709\n",
       "3                                     Тело Синьорини    37.204\n",
       "4                                 Материал Мурнагана    35.623"
      ]
     },
     "metadata": {},
     "output_type": "display_data"
    },
    {
     "name": "stdout",
     "output_type": "stream",
     "text": [
      "Процессор, с помощью которого выполнялись вычисления:\n"
     ]
    },
    {
     "data": {
      "text/plain": [
       "'Intel(R) Core(TM) i5-9600K CPU @ 3.70GHz'"
      ]
     },
     "metadata": {},
     "output_type": "display_data"
    }
   ],
   "source": [
    "timeData = {'Функция энергии':\n",
    "            [\"Материал Блейтца и Ко (упрощённая модель)\",\n",
    "             \"Материал Блейтца и Ко (гипотетический вариант)\",\n",
    "             \"Материал Блейтца и Ко (полная трёхконстантная модель)\",\n",
    "             \"Тело Синьорини\",\n",
    "             \"Материал Мурнагана\"],\n",
    "            \"Время, c\": [simpleTime, hypotheticalTime, fullTime, signoriniTime, murnaghanTime]}\n",
    "df = pd.DataFrame(data=timeData)\n",
    "display(df)\n",
    "print(\"Процессор, с помощью которого выполнялись вычисления:\")\n",
    "display(cpuinfo.get_cpu_info()['brand_raw'])"
   ]
  }
 ],
 "metadata": {
  "kernelspec": {
   "display_name": "Python 3 (ipykernel)",
   "language": "python",
   "name": "python3"
  },
  "language_info": {
   "codemirror_mode": {
    "name": "ipython",
    "version": 3
   },
   "file_extension": ".py",
   "mimetype": "text/x-python",
   "name": "python",
   "nbconvert_exporter": "python",
   "pygments_lexer": "ipython3",
   "version": "3.10.4"
  }
 },
 "nbformat": 4,
 "nbformat_minor": 4
}
